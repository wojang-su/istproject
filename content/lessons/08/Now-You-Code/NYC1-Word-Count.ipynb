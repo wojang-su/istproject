{
 "cells": [
  {
   "cell_type": "markdown",
   "metadata": {},
   "source": [
    "# Now You Code 1: Word Count\n",
    "\n",
    "Let's write a program which takes a file name as input, counts the number of words in the file, then outputs the word count.\n",
    "\n",
    "The program should handle `FileNotFoundError` as an exception in case you enter a file that does not exist.\n",
    "\n",
    "Sample Run #1:\n",
    "\n",
    "```\n",
    "Word Count!\n",
    "Enter Filename: NYC1-romeo.txt\n",
    "There are 33 words in NYC1-romeo.txt\n",
    "```\n",
    "\n",
    "Sample Run #2:\n",
    "\n",
    "```\n",
    "Word Count!\n",
    "Enter Filename: testing\n",
    "File Not Found: testing\n",
    "```\n",
    "Try these files:\n",
    "\n",
    "- `NYC1-cant-stop-the-feeling.txt`\n",
    "- `NYC1-preamble.txt`\n",
    "- `NYC1-romeo.txt` or \n",
    "- `NYC1-zork.txt`\n",
    "\n",
    "\n",
    "**HINT**: Read in the file a line at a time, then split the line into words and count each word... and remember your algorithm does not need to account for exceptions... those are programming concerns!\n"
   ]
  },
  {
   "cell_type": "markdown",
   "metadata": {
    "collapsed": true
   },
   "source": [
    "## Step 1: Problem Analysis\n",
    "\n",
    "Inputs: \n",
    "1. Filename\n",
    "\n",
    "Outputs:\n",
    "2. Word Counts\n",
    "Algorithm (Steps in Program):\n",
    "1. Print Word Count\n",
    "2. Input Filename\n",
    "3. Set Word_count 0\n",
    "4. Open filename as f\n",
    "5. split space\n",
    "6. For word in words\n",
    "7. Set iterate variable word_count = word_count + 1\n",
    "8. print word_count, filename\n",
    "9. Try except for FileNotFoundError\n",
    "\n"
   ]
  },
  {
   "cell_type": "code",
   "execution_count": 2,
   "metadata": {},
   "outputs": [
    {
     "name": "stdout",
     "output_type": "stream",
     "text": [
      "Word Count!\n",
      "Enter Filename: RIP.txt\n",
      "There are 3 words in RIP.txt\n"
     ]
    }
   ],
   "source": [
    "## Step 2: write code here\n",
    "print(\"Word Count!\")\n",
    "filename = str(input(\"Enter Filename: \"))\n",
    "word_count = 0\n",
    "try:\n",
    "    with open(filename, 'r') as f:\n",
    "        for line in f.readlines():\n",
    "            words = line.split(\" \")\n",
    "            for word in words:\n",
    "                word_count = word_count + 1\n",
    "        print(\"There are %d words in %s\" % (word_count, filename))\n",
    "except FileNotFoundError:\n",
    "    print(\"File Not Found: \", filename)"
   ]
  },
  {
   "cell_type": "markdown",
   "metadata": {
    "collapsed": true
   },
   "source": [
    "## Step 3: Questions\n",
    "\n",
    "1. Where are these files located? Make your own file, add words to it then run with the word count program.\n",
    "1. These files located in Git repository and I made RIP text and it works.\n",
    "2. Explain a strategy for making this program  smarter so that it does not include puncutuation in the word counts?\n",
    "1. Try to put try and except for handling FileNoFoundError\n",
    "3. Is it possible to have a file with a word count of 0? Explain.\n",
    "1. Yes if you did not write anything in file"
   ]
  },
  {
   "cell_type": "markdown",
   "metadata": {},
   "source": [
    "## Reminder of Evaluation Criteria\n",
    "\n",
    "1. What the problem attempted (analysis, code, and answered questions) ?\n",
    "2. What the problem analysis thought out? (does the program match the plan?)\n",
    "3. Does the code execute without syntax error?\n",
    "4. Does the code solve the intended problem?\n",
    "5. Is the code well written? (easy to understand, modular, and self-documenting, handles errors)\n"
   ]
  },
  {
   "cell_type": "code",
   "execution_count": null,
   "metadata": {
    "collapsed": true
   },
   "outputs": [],
   "source": []
  }
 ],
 "metadata": {
  "anaconda-cloud": {},
  "kernelspec": {
   "display_name": "Python 3",
   "language": "python",
   "name": "python3"
  },
  "language_info": {
   "codemirror_mode": {
    "name": "ipython",
    "version": 3
   },
   "file_extension": ".py",
   "mimetype": "text/x-python",
   "name": "python",
   "nbconvert_exporter": "python",
   "pygments_lexer": "ipython3",
   "version": "3.6.1"
  }
 },
 "nbformat": 4,
 "nbformat_minor": 1
}
