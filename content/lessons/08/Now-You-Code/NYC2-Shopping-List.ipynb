{
 "cells": [
  {
   "cell_type": "markdown",
   "metadata": {},
   "source": [
    "# Now You Code 2: Shopping List\n",
    "\n",
    "Write a program to input a list of grocery items for your shopping list and then writes them to a file a line at a time.  The program should keep asking you to enter grocery items until you type `'done'`.\n",
    "\n",
    "After you complete the list, the program should then load the file and read the list back to you by printing each item out.\n",
    "\n",
    "Sample Run:\n",
    "\n",
    "```\n",
    "Let's make a shopping list. Type 'done' when you're finished:\n",
    "Enter Item: milk\n",
    "Enter Item: cheese\n",
    "Enter Item: eggs\n",
    "Enter Item: beer\n",
    "Enter Item: apples\n",
    "Enter Item: done\n",
    "Your shopping list:\n",
    "milk\n",
    "cheese\n",
    "eggs\n",
    "beer\n",
    "apples\n",
    "```\n"
   ]
  },
  {
   "cell_type": "markdown",
   "metadata": {
    "collapsed": true
   },
   "source": [
    "## Step 1: Problem Analysis\n",
    "\n",
    "Inputs:\n",
    "1. Done or shopping list\n",
    "\n",
    "Outputs:\n",
    "1. Shopping list added in new txt\n",
    "\n",
    "Algorithm (Steps in Program):\n",
    "1. Print Let's a make a shopping list. Type 'done' when you're finished: \"\n",
    "1. filename = NYC2-shopping-list.txt\n",
    "1. open file as f\n",
    "1. Use While loop to make break statement\n",
    "1. else write new statments with \\n"
   ]
  },
  {
   "cell_type": "code",
   "execution_count": 4,
   "metadata": {},
   "outputs": [
    {
     "name": "stdout",
     "output_type": "stream",
     "text": [
      "Let's a make a shopping list. Type 'done' when you're finished: \n",
      "Enter Item: milk\n",
      "Enter Item: cheese\n",
      "Enter Item: eggs\n",
      "Enter Item: beer\n",
      "Enter Item: apple\n",
      "Enter Item: done\n"
     ]
    }
   ],
   "source": [
    "filename = \"NYC2-shopping-list.txt\"\n",
    "## Step 2: write code here\n",
    "print(\"Let's a make a shopping list. Type 'done' when you're finished: \")\n",
    "filename = \"NYC2-shopping-list.txt\"\n",
    "with open(filename, 'w') as f:\n",
    "    while True:\n",
    "        user_input = input(\"Enter Item: \")\n",
    "        if user_input == (\"done\"):\n",
    "            break\n",
    "        else: \n",
    "            f.writelines(user_input + \"\\n\")\n",
    "        "
   ]
  },
  {
   "cell_type": "markdown",
   "metadata": {
    "collapsed": true
   },
   "source": [
    "## Step 3: Refactoring\n",
    "\n",
    "Refactor the part of your program which reads the shopping list from the file into a separate user-defined function called `readShoppingList` \n",
    "re-write your program to use this function.\n",
    "\n",
    "## ReadShoppingList function\n",
    "\n",
    "Inputs:\n",
    "1. Done or shopping list\n",
    "\n",
    "Outputs:\n",
    "1. New shoppinglist which u entered\n",
    "\n",
    "Algorithm (Steps in Program):\n",
    "1. Make a function for readShoppingList\n",
    "1. readShoppingList open file and read\n",
    "1. read line and make strip for that\n",
    "1. Print Let's a make a shopping list. Type 'done' when you're finished: \"\n",
    "1. filename = NYC2-shopping-list.txt\n",
    "1. open file as f\n",
    "1. Use While loop to make break statement\n",
    "1. else write new statments with \\n\n",
    "1. print shopping list: and call readshoppingList function\n",
    "1. Make a Try except to prevent wrong file name"
   ]
  },
  {
   "cell_type": "code",
   "execution_count": 12,
   "metadata": {},
   "outputs": [
    {
     "name": "stdout",
     "output_type": "stream",
     "text": [
      "Let's make a shopping list. Type 'done' when you finished: \n",
      "Enter Item: milk\n",
      "Enter Item: cheese\n",
      "Enter Item: eggs\n",
      "Enter Item: beer\n",
      "Enter Item: apple\n",
      "Enter Item: done\n",
      "Your Shopping List: \n",
      "milk\n",
      "cheese\n",
      "eggs\n",
      "beer\n",
      "apple\n"
     ]
    }
   ],
   "source": [
    "## Step 4: Write program again with refactored code.\n",
    "\n",
    "def readShoppingList(filename):\n",
    "    with open(filename, 'r') as f:\n",
    "        for line in f.readlines():\n",
    "            print(line.strip())\n",
    "\n",
    "print(\"Let's make a shopping list. Type 'done' when you finished: \")\n",
    "filename = \"NYC2-shopping-list.txt\"\n",
    "\n",
    "try:\n",
    "    with open(filename, 'w') as f:\n",
    "        while True:\n",
    "            user_input = input(\"Enter Item: \")\n",
    "            if user_input == (\"done\"):\n",
    "                break\n",
    "            f.writelines(user_input + \"\\n\")\n",
    "            \n",
    "    print(\"Your Shopping List: \")\n",
    "    user_input = readShoppingList(filename)\n",
    "except FileNotFoundError:\n",
    "    print(\"Cannot found the file\")\n"
   ]
  },
  {
   "cell_type": "markdown",
   "metadata": {},
   "source": [
    "## Step 5: Questions\n",
    "\n",
    "1. Is the refactored code in step 4 easier to read? Why or why not?\n",
    "1. Yes, because code in step 4 is easier because function help to read code more clean and easier.\n",
    "2. Explain how this program could be refarctored further (there's one thing that's obvious).\n",
    "1. To create function to read txt, so it organize code more easier and clearly.\n",
    "3. Describe how this program can be modified to support multiple shopping lists?\n",
    "1. We can make another file to support multiple shopping list."
   ]
  },
  {
   "cell_type": "markdown",
   "metadata": {},
   "source": [
    "## Reminder of Evaluation Criteria\n",
    "\n",
    "1. What the problem attempted (analysis, code, and answered questions) ?\n",
    "2. What the problem analysis thought out? (does the program match the plan?)\n",
    "3. Does the code execute without syntax error?\n",
    "4. Does the code solve the intended problem?\n",
    "5. Is the code well written? (easy to understand, modular, and self-documenting, handles errors)\n"
   ]
  },
  {
   "cell_type": "code",
   "execution_count": null,
   "metadata": {
    "collapsed": true
   },
   "outputs": [],
   "source": []
  }
 ],
 "metadata": {
  "anaconda-cloud": {},
  "kernelspec": {
   "display_name": "Python 3",
   "language": "python",
   "name": "python3"
  },
  "language_info": {
   "codemirror_mode": {
    "name": "ipython",
    "version": 3
   },
   "file_extension": ".py",
   "mimetype": "text/x-python",
   "name": "python",
   "nbconvert_exporter": "python",
   "pygments_lexer": "ipython3",
   "version": "3.6.1"
  }
 },
 "nbformat": 4,
 "nbformat_minor": 1
}
