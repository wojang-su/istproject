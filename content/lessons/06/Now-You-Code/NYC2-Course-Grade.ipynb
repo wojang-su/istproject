{
 "cells": [
  {
   "cell_type": "markdown",
   "metadata": {},
   "source": [
    "# Now You Code 2: Course Grade\n",
    "\n",
    "In a previous homework you wrote a program to calculate the final grade letter grade in IST256 when given the total points out of 600.\n",
    "\n",
    "The code appears below. Feel free to execute this code a few times in order to get a feel for how it works."
   ]
  },
  {
   "cell_type": "code",
   "execution_count": null,
   "metadata": {
    "collapsed": true
   },
   "outputs": [],
   "source": [
    "print(\"IST256 Grade Calculator\")\n",
    "try:\n",
    "    points = int(input(\"Enter total points out of 600:\"))\n",
    "    if points >= 570:\n",
    "        grade = \"A\"\n",
    "    elif points >= 540:\n",
    "        grade = \"A-\"\n",
    "    elif points >= 510:\n",
    "        grade = \"B+\"\n",
    "    elif points >= 480:\n",
    "        grade = \"B\"\n",
    "    elif points >= 450:\n",
    "        grade = \"B-\"\n",
    "    elif points >= 420:\n",
    "        grade = \"C+\"\n",
    "    elif points >= 390:\n",
    "        grade = \"C\"\n",
    "    elif points >= 360:\n",
    "        grade = \"C-\"\n",
    "    elif points >= 300:\n",
    "        grade = \"D\"\n",
    "    else:\n",
    "        grade = \"F\"\n",
    "\n",
    "    print(\"Grade:\", grade) \n",
    "except:\n",
    "    print(\"Bad point input\")"
   ]
  },
  {
   "cell_type": "markdown",
   "metadata": {},
   "source": [
    "## Step 1: Refactor Into a function\n",
    "\n",
    "One reason to re-factor code into a function is to simplify our code. It's easier to understand `GetGrade()` as opposed to all of those `if ..elif` statements which make up `GetGrade` itself.\n",
    "\n",
    "Now re-factor the code into a user-defined Python function. The name of the function should be `GetGrade()`. The function should take a number of points as input and output the appropriate letter grade based on those points.\n",
    "\n"
   ]
  },
  {
   "cell_type": "code",
   "execution_count": null,
   "metadata": {
    "collapsed": true
   },
   "outputs": [],
   "source": [
    "## Step 2: Todo Write function defintion\n",
    "## Function: GetGrade\n",
    "## Arguments: points (eg. 540)\n",
    "## Returns: grade (A, B+ etc...)\n",
    "\n",
    "#TODO: Write function definition here\n",
    "def GetGrade(points):\n",
    "    try:\n",
    "        if points >= 570:\n",
    "            grade = \"A\"\n",
    "        elif points >= 540:\n",
    "            grade = \"A-\"\n",
    "        elif points >= 510:\n",
    "            grade = \"B+\"\n",
    "        elif points >= 480:\n",
    "            grade = \"B\"\n",
    "        elif points >= 450:\n",
    "            grade = \"B-\"\n",
    "        elif points >= 420:\n",
    "            grade = \"C+\"\n",
    "        elif points >= 390:\n",
    "            grade = \"C\"\n",
    "        elif points >= 360:\n",
    "            grade = \"C-\"\n",
    "        elif points >= 300:\n",
    "            grade = \"D\"\n",
    "        else:\n",
    "            grade = \"F\"   \n",
    "        return grade\n",
    "        \n",
    "    except ValueError:\n",
    "        print(\"Bad point input\")"
   ]
  },
  {
   "cell_type": "markdown",
   "metadata": {},
   "source": [
    "## Step 3: Test your function\n",
    "\n",
    "Call the function a few times to make sure it works. For example:\n",
    "\n",
    "```\n",
    "Input: 585 Expected Output: A\n",
    "Input: 424 Expected Output: C+\n",
    "Input: 0   Expected Output: F\n",
    "```"
   ]
  },
  {
   "cell_type": "code",
   "execution_count": 3,
   "metadata": {},
   "outputs": [
    {
     "name": "stdout",
     "output_type": "stream",
     "text": [
      "Input: 585 Expected Output: A\n",
      "Input: 424 Expected Output: C+\n",
      "Input: 0 Expected Output: F\n"
     ]
    }
   ],
   "source": [
    "# Step 4: Call the function a few times, first one was provided for you, test a few more cases\n",
    "print(\"Input:\", 585, \"Expected Output:\",GetGrade(585))\n",
    "print(\"Input:\", 424, \"Expected Output:\",GetGrade(424))\n",
    "print(\"Input:\", 0, \"Expected Output:\",GetGrade(0))"
   ]
  },
  {
   "cell_type": "markdown",
   "metadata": {},
   "source": [
    "# Calculating Course Grades \n",
    "\n",
    "Finally we can now write a program to loop until the user enters quit. Each time in the loop it should prompt for the total number of points in the course and then output the letter grade, as follows: \n",
    "\n",
    "Sample Run:\n",
    "```\n",
    "IST256 Grade Calculator\n",
    "Enter points or type 'quit': 540\n",
    "540 points is a grade of A-\n",
    "Enter points or type 'quit': 385\n",
    "385 points is a grade of C-\n",
    "Enter points or type 'quit': 690\n",
    "690 points is a grade of A\n",
    "Enter points or type 'quit': quit\n",
    "```\n",
    "\n",
    "Of course your program should use the `GetGrade` function we just created."
   ]
  },
  {
   "cell_type": "markdown",
   "metadata": {
    "collapsed": true
   },
   "source": [
    "## Step 4: Problem Analysis\n",
    "\n",
    "1. Inputs: Points\n",
    "\n",
    "2. Outputs: Letter grade\n",
    "   and break if user enter 'quit'\n",
    "\n",
    "3. Algorithm (Steps in Program):\n",
    "   make a loop - while True\n",
    "   user_input\n",
    "   if user_input == \"quit\":\n",
    "   break\n",
    "   else:\n",
    "   user_input = int(user_input)\n",
    "   print outoput\n",
    "\n"
   ]
  },
  {
   "cell_type": "code",
   "execution_count": 4,
   "metadata": {},
   "outputs": [
    {
     "name": "stdout",
     "output_type": "stream",
     "text": [
      "IST256 Grade Calculator\n",
      "Enter points or type 'quit': 480\n",
      "480 points is equal to B\n",
      "Enter points or type 'quit': quit\n"
     ]
    }
   ],
   "source": [
    "## Step 5: Write program here\n",
    "print(\"IST256 Grade Calculator\")\n",
    "\n",
    "while True:\n",
    "    user_input = (input(\"Enter points or type 'quit': \"))\n",
    "    if user_input == \"quit\":\n",
    "        break\n",
    "    else:\n",
    "        user_input = int(user_input)\n",
    "        print(user_input, \"points is equal to\", GetGrade(user_input))"
   ]
  },
  {
   "cell_type": "markdown",
   "metadata": {},
   "source": [
    "## Step 6: Questions\n",
    "\n",
    "1. Provide 3 advantages for programming a user function in your code like `GetGrade` \n",
    "1. To promote modularity\n",
    "2. To make our code less complex\n",
    "3. To make a program, function simplify program equations which people easily understand.\n",
    "2. If we want to guarantee our `GetGrade` function is 100% accurate, what is the minimum number of test cases must we provide in step 3?\n",
    "1. We have to run 11 times to test 'GetGrade' because letter grades are 10 and Value error is one. So at least we have to run 11 times to      guarantee \"GetGrade' function\n",
    "3. How many times is the `GetGrade` function called in the sample run provided?\n",
    "1. Is called everytimes until user enter \"quit\"\n",
    "   In the sample run provides, 'GetGrade' function called three times."
   ]
  },
  {
   "cell_type": "markdown",
   "metadata": {},
   "source": [
    "## Reminder of Evaluation Criteria\n",
    "\n",
    "1. What the problem attempted (analysis, code, and answered questions) ?\n",
    "2. What the problem analysis thought out? (does the program match the plan?)\n",
    "3. Does the code execute without syntax error?\n",
    "4. Does the code solve the intended problem?\n",
    "5. Is the code well written? (easy to understand, modular, and self-documenting, handles errors)\n"
   ]
  },
  {
   "cell_type": "code",
   "execution_count": null,
   "metadata": {
    "collapsed": true
   },
   "outputs": [],
   "source": []
  }
 ],
 "metadata": {
  "anaconda-cloud": {},
  "kernelspec": {
   "display_name": "Python 3",
   "language": "python",
   "name": "python3"
  },
  "language_info": {
   "codemirror_mode": {
    "name": "ipython",
    "version": 3
   },
   "file_extension": ".py",
   "mimetype": "text/x-python",
   "name": "python",
   "nbconvert_exporter": "python",
   "pygments_lexer": "ipython3",
   "version": "3.6.1"
  }
 },
 "nbformat": 4,
 "nbformat_minor": 1
}
