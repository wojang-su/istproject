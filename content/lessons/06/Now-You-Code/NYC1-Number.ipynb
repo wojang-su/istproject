{
 "cells": [
  {
   "cell_type": "markdown",
   "metadata": {},
   "source": [
    "# Now You Code 1: Number\n",
    "\n",
    "In this now you code we will learn to re-factor a program into a function. This is the most common way to write a function when you are a beginner. *Re-factoring* is the act of re-writing code without changing its functionality. We commonly do re-factoring to improve performance or readability of our code.\n",
    "\n",
    "The way you do this is rather simple. First you write a program to solve the problem, then you re-write that program as a function and finally test the function to make sure it works as expected. \n",
    "\n",
    "This helps train you to think abstractly about problems, but leverages what you understand currently about programming.\n",
    "\n",
    "## First we write the program \n",
    "\n",
    "Write a program to take an input string and convert to a float. If the string cannot be converted to a float it returns the string \"NaN\" which means \"Not a Number\" We did this first part for you.\n",
    "\n",
    "## Step 1: Problem Analysis\n",
    "\n",
    "Inputs: Any value\n",
    "\n",
    "Outputs: whether that value is a number\n",
    "\n",
    "Algorithm:\n",
    "\n",
    "1. input a value\n",
    "2. try to convert the value to a number\n",
    "3. if you can convert it, print the number\n",
    "4. if you cannot print 'NaN' for Not a number."
   ]
  },
  {
   "cell_type": "code",
   "execution_count": null,
   "metadata": {
    "collapsed": true
   },
   "outputs": [],
   "source": [
    "## STEP 2 : Write the program\n",
    "text = input(\"Enter a number: \")\n",
    "try:\n",
    "    number = float(text)\n",
    "except ValueError:\n",
    "    number = \"NaN\"\n",
    "    \n",
    "print(number)"
   ]
  },
  {
   "cell_type": "markdown",
   "metadata": {},
   "source": [
    "## Next we refactor it into a function\n",
    "\n",
    "Complete this function. It should be similar to the program above, but it should not have any `input()` or `print()` functions as those are reserved for the main program. Functions should take variables as input and return a variable as output. When the function executes, the variables are replaced with actual values. Our function in question takes `text` as input and returns `number` as output.\n"
   ]
  },
  {
   "cell_type": "code",
   "execution_count": null,
   "metadata": {
    "collapsed": true
   },
   "outputs": [],
   "source": [
    "# Step 3: write the function\n",
    "## Function: Number\n",
    "## Argument (input): text value\n",
    "## Returns (output): float of text value or \"NaN\"\n",
    "    \n",
    "    # TODO Write code here\n",
    "try:\n",
    "    def number(text):\n",
    "    float_number = float(text)\n",
    "    return float_number\n",
    "\n",
    "except ValueError:\n",
    "    print(\"NaN\")"
   ]
  },
  {
   "cell_type": "markdown",
   "metadata": {},
   "source": [
    "## Rewrite the program to use the function\n",
    "\n",
    "Finally re-write the original program to use the new function. The program now works the same as STEP1 but it now uses a function!"
   ]
  },
  {
   "cell_type": "code",
   "execution_count": 1,
   "metadata": {},
   "outputs": [
    {
     "name": "stdout",
     "output_type": "stream",
     "text": [
      "Enter a number: 20\n",
      "Your number is 20.0\n"
     ]
    }
   ],
   "source": [
    "## Step 4: write the program from step 2 again, but this time use the function\n",
    "try:\n",
    "    def number(text):\n",
    "        float_number = float(text)\n",
    "        return float_number\n",
    "    \n",
    "    text = input(\"Enter a number: \")\n",
    "    float_number = number(text)\n",
    "    print(\"Your number is\" , float_number)\n",
    "except ValueError:\n",
    "    number = print(\"NaN\")\n"
   ]
  },
  {
   "cell_type": "markdown",
   "metadata": {},
   "source": [
    "## Step 3: Questions\n",
    "\n",
    "1. Can you define a function with the same name more than once?\n",
    "1. No, function is written once\n",
    "2. Can you call a function with the name name more than once?\n",
    "1. Yes I can call function many times\n",
    "3. What is the input to the number function? What is the output?\n",
    "1. input is user input that probably would be number. Then output would be number by float. However, if user put different value input, then it will shows \"NaN\" "
   ]
  },
  {
   "cell_type": "markdown",
   "metadata": {},
   "source": [
    "## Reminder of Evaluation Criteria\n",
    "\n",
    "1. What the problem attempted (analysis, code, and answered questions) ?\n",
    "2. What the problem analysis thought out? (does the program match the plan?)\n",
    "3. Does the code execute without syntax error?\n",
    "4. Does the code solve the intended problem?\n",
    "5. Is the code well written? (easy to understand, modular, and self-documenting, handles errors)"
   ]
  },
  {
   "cell_type": "code",
   "execution_count": null,
   "metadata": {
    "collapsed": true
   },
   "outputs": [],
   "source": []
  }
 ],
 "metadata": {
  "anaconda-cloud": {},
  "kernelspec": {
   "display_name": "Python 3",
   "language": "python",
   "name": "python3"
  },
  "language_info": {
   "codemirror_mode": {
    "name": "ipython",
    "version": 3
   },
   "file_extension": ".py",
   "mimetype": "text/x-python",
   "name": "python",
   "nbconvert_exporter": "python",
   "pygments_lexer": "ipython3",
   "version": "3.6.1"
  }
 },
 "nbformat": 4,
 "nbformat_minor": 1
}
