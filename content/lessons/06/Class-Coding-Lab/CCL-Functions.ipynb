{
 "cells": [
  {
   "cell_type": "markdown",
   "metadata": {},
   "source": [
    "# In-Class Coding Lab: Functions\n",
    "\n",
    "The goals of this lab are to help you to understand:\n",
    "\n",
    "- How to use Python's built-in functions in the standard library.\n",
    "- How to write user-defined functions\n",
    "- The benefits of user-defined functions to code reuse and simplicity.\n",
    "- How to create a program to use functions to solve a complex idea\n",
    "\n",
    "We will demonstrate these through the following example:\n",
    "\n",
    "## The Cat Problem\n",
    "\n",
    "**You want to buy 3 cats from a pet store that has 50 cats. In how many ways can you do this?**\n",
    "\n",
    "This is a classic application in the area of mathematics known as *combinatorics* which is the study of objects belonging to a finite set in accordance with certain constraints.\n",
    "\n",
    "In this example the set is 50 cats, where we select 3 of those 50 cats and the order in which we select them does not matter. We want to know how many different combinations of 3 cats can we get from the 50.\n",
    "\n",
    "This problem, written as a program would work like this:\n",
    "\n",
    "```\n",
    "How many cats are at the pet store? 50\n",
    "How many are you willing to take home? 3\n",
    "There are #### different combinations of 3 cats from the 50 you can choose to take home!\n",
    "```\n",
    "\n",
    "\n",
    "Of course `####` gets replaced with the answer, but we don't know how to do that....yet.\n",
    "\n",
    "### Combinatorics 101\n",
    "\n",
    "In *combinatorics*:\n",
    "\n",
    "- a **permutation** defined as `P(n,k)` is the number of ordered arrangements of `n` things taken `k` at a time.\n",
    "- a **combination** defined as `C(n,k)` is the number of un-ordered arrangements of `n` things taken `k` at a time.\n",
    "\n",
    "In our cat case we're bringing 3 (`k`) home from the 50 (`n`) and their order doesn't matter, (after all we plan on loving them equally) so we want **combination** instead of **permutation**. An example of permutation would be if those same cats were in a beauty contest and the 3 (`k`) were to be placed in 1st, 2nd and 3rd.\n",
    "\n",
    "### Formula for C(n,k) \n",
    "\n",
    "The formula for `C(n,k)` is as follows: `n! / ((n-k)! * k!) ` we will eventually write this as a user-defined Python function, but before we do, what exactly is `!` ?\n",
    "\n",
    "### Factorial\n",
    "\n",
    "The `!` is not a Python symbol, it is a mathematical symbol. It represents **factorial** defined as `n!` as the the product of the positive integer `n` and all the positive integers less than `n`. Furthermore `0! == 1`.\n",
    "\n",
    "Example: `5! == 5*4*3*2*1 == 120`\n",
    "\n",
    "### We are ready to write our program!\n",
    "\n",
    "Our cat problem needs the combination formula, the combination formula needs factorial. We now know everything we need to solve the problem. We just have to assemble it all into a working program! \n",
    "\n",
    "You could solve this problem by writing a user-defined Python function for factorial, then another function for combination. Instead, we'll take a hybrid approach, using  the factorial function from the Python standard library and writing a user-defined combination function.\n"
   ]
  },
  {
   "cell_type": "markdown",
   "metadata": {
    "collapsed": true
   },
   "source": [
    "## Built-In Functions\n",
    "\n",
    "Let's start by checking out the built-in functions in Python's math library. We use the `dir()` function to list the names of the math library:\n"
   ]
  },
  {
   "cell_type": "code",
   "execution_count": null,
   "metadata": {},
   "outputs": [],
   "source": [
    "import math\n",
    "\n",
    "dir(math)"
   ]
  },
  {
   "cell_type": "markdown",
   "metadata": {},
   "source": [
    "If you look through the output, you'll see a `factorial` name. Let's see if it's a function we can use:"
   ]
  },
  {
   "cell_type": "code",
   "execution_count": null,
   "metadata": {},
   "outputs": [],
   "source": [
    "help(math.factorial)"
   ]
  },
  {
   "cell_type": "markdown",
   "metadata": {},
   "source": [
    "It says it's a built-in function, and requies an integer value (which it referrs to as x, but that value is arbitrary) as an argument. Let's call the function and see if it works:"
   ]
  },
  {
   "cell_type": "code",
   "execution_count": null,
   "metadata": {},
   "outputs": [],
   "source": [
    "math.factorial(5) #should be 120"
   ]
  },
  {
   "cell_type": "code",
   "execution_count": null,
   "metadata": {},
   "outputs": [],
   "source": [
    "math.factorial(0) # should be 1"
   ]
  },
  {
   "cell_type": "markdown",
   "metadata": {},
   "source": [
    "Next we need to write a user-defined function for the **combination** formula. Recall:\n",
    "\n",
    "`combination(n,k)` is defined as `n! / ((n-k)! * k!)`  use `math.factorial()` in place of `!` in the formula. For example `(n-k)!` would be `math.factorial(n-k)` in Python."
   ]
  },
  {
   "cell_type": "code",
   "execution_count": null,
   "metadata": {},
   "outputs": [],
   "source": [
    "#TODO: Write code to define the combination(n,k) function here:\n",
    "n=0\n",
    "k=0\n",
    "def combination(n,k):\n",
    "    combination = (math.factorial(n)) / ((math.factorial(n-k)) * (math.factorial(k)))\n",
    "    return int(combination)\n"
   ]
  },
  {
   "cell_type": "code",
   "execution_count": null,
   "metadata": {},
   "outputs": [],
   "source": [
    "## Test your combination function here\n",
    "combination(50,3) # should be 19600"
   ]
  },
  {
   "cell_type": "code",
   "execution_count": null,
   "metadata": {},
   "outputs": [],
   "source": [
    "combination(4,1) # should be 4"
   ]
  },
  {
   "cell_type": "markdown",
   "metadata": {},
   "source": [
    "## Now write the entire program\n",
    "\n",
    "Sample run\n",
    "\n",
    "```\n",
    "How many cats are at the pet store? 50\n",
    "How many are you willing to take home? 3\n",
    "There are #### different combinations of 3 cats from the 50 you can choose to take home!\n",
    "```\n",
    "\n",
    "TO-Do List:\n",
    "\n",
    "```\n",
    "# TODO List for program\n",
    "1. input how many cats at pet store? save in variable n\n",
    "2. input how many you are willing to take home? sabe in variable k\n",
    "3. compute combination of n and k\n",
    "4. print results\n",
    "```\n"
   ]
  },
  {
   "cell_type": "code",
   "execution_count": null,
   "metadata": {},
   "outputs": [],
   "source": [
    "# TODO: Write entire program\n",
    "n = int(input(\"How many cats at pet store?: \"))\n",
    "k = int(input(\"How many are you willing to take home?: \"))\n",
    "num_of_combinations = combination(n,k)\n",
    "print('There are', num_of_combinations, 'different combination of', k, 'cats from the', n, 'you can choose to take home!')"
   ]
  },
  {
   "cell_type": "markdown",
   "metadata": {},
   "source": [
    "## The Cat Beauty Contest\n",
    "\n",
    "We made mention of a cat beauty pagent, where order does matter, would use the **permutation** formula. Do the following:\n",
    "\n",
    "1. Write a function `permutation(n,k)` in Python to implement the permutation formula\n",
    "2. Write a main program similar to the one you wrote above, but instead implements the cat beauty contest.\n",
    "\n",
    "\n",
    "```\n",
    "# TODO List for program\n",
    "1. print \"welcome to the cat beauty contest\"\n",
    "2. input how many cat contenstents? save input into variable n\n",
    "3. how many places? save input into variable k\n",
    "4. compute permutation(n,k)\n",
    "5. print number of possible ways the contest can end.\n",
    "```\n"
   ]
  },
  {
   "cell_type": "code",
   "execution_count": 3,
   "metadata": {},
   "outputs": [
    {
     "name": "stdout",
     "output_type": "stream",
     "text": [
      "Welcome to the cat beauty contest\n",
      "How many cat contestents? 2\n",
      "How many places? 3\n",
      "Number of possible ways the contest can end:  56.0\n"
     ]
    }
   ],
   "source": [
    "# TODO: Write entire program\n",
    "import math\n",
    "def permutation(n,k):\n",
    "    permutations = math.factorial(n) / math.factorial((n-k))\n",
    "    return permutations\n",
    "permutations = permutation(n,k)\n",
    "print(\"Welcome to the cat beauty contest\")\n",
    "n = int(input(\"How many cat contestents? \"))\n",
    "k = int(input(\"How many places? \"))\n",
    "\n",
    "print(\"Number of possible ways the contest can end: \", permutations)"
   ]
  }
 ],
 "metadata": {
  "anaconda-cloud": {},
  "kernelspec": {
   "display_name": "Python 3",
   "language": "python",
   "name": "python3"
  },
  "language_info": {
   "codemirror_mode": {
    "name": "ipython",
    "version": 3
   },
   "file_extension": ".py",
   "mimetype": "text/x-python",
   "name": "python",
   "nbconvert_exporter": "python",
   "pygments_lexer": "ipython3",
   "version": "3.6.1"
  }
 },
 "nbformat": 4,
 "nbformat_minor": 1
}
