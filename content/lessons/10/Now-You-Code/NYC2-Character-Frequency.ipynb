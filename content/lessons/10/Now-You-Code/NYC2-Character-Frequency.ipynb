{
 "cells": [
  {
   "cell_type": "markdown",
   "metadata": {},
   "source": [
    "# Now You Code 2: Character Frequency\n",
    "\n",
    "Write a program to input some text (a word or a sentence). The program should create a histogram of each character in the text and it's frequency. For example the text `apple` has a frequency `a:1, p:2, l:1, e:1`\n",
    "\n",
    "Some advice:\n",
    "\n",
    "- build a dictionary of each character where the character is the key and the value is the number of occurences of that character.\n",
    "- omit spaces, in the input text, and they cannot be represented as dictionary keys\n",
    "- convert the input text to lower case, so that `A` and `a` are counted as the same character.\n",
    "\n",
    "After you count the characters:\n",
    "- sort the dictionary keys alphabetically, \n",
    "- print out the character distribution\n",
    "\n",
    "Example Run:\n",
    "\n",
    "```\n",
    "Enter some text: Michael is a Man from Mississppi.\n",
    ". : 1\n",
    "a : 3\n",
    "c : 1\n",
    "e : 1\n",
    "f : 1\n",
    "h : 1\n",
    "i : 5\n",
    "l : 1\n",
    "m : 4\n",
    "n : 1\n",
    "o : 1\n",
    "p : 2\n",
    "r : 1\n",
    "s : 5\n",
    "```\n"
   ]
  },
  {
   "cell_type": "markdown",
   "metadata": {
    "collapsed": true
   },
   "source": [
    "## Step 1: Problem Analysis\n",
    "\n",
    "Inputs:\n",
    "1. text\n",
    "\n",
    "Outputs:\n",
    "1. sort the alphabet which used for sentence\n",
    "Algorithm (Steps in Program):\n",
    "1. Make dictionary for histogram\n",
    "2. input some text and change user_input to lower\n",
    "3. for character in text\n",
    "4. if character is not in the word just 0\n",
    "5. if character is in the word then + 1\n",
    "6. Sort by alphabet\n",
    "7. print key: count\n",
    "\n"
   ]
  },
  {
   "cell_type": "code",
   "execution_count": 8,
   "metadata": {},
   "outputs": [
    {
     "name": "stdout",
     "output_type": "stream",
     "text": [
      "Enter some text: Enter some text: Michael is a Man from Mississppi.\n",
      ". : 1\n",
      ": : 1\n",
      "a : 3\n",
      "c : 1\n",
      "e : 5\n",
      "f : 1\n",
      "h : 1\n",
      "i : 5\n",
      "l : 1\n",
      "m : 5\n",
      "n : 2\n",
      "o : 2\n",
      "p : 2\n",
      "r : 2\n",
      "s : 6\n",
      "t : 3\n",
      "x : 1\n"
     ]
    }
   ],
   "source": [
    "## Step 2: Write code here\n",
    "histogram = {}\n",
    "text = input(\"Enter some text: \").lower()\n",
    "for char in text:\n",
    "    if char != \" \":\n",
    "        if histogram.get(char, 0) == 0:\n",
    "            histogram[char] = 1\n",
    "        else:\n",
    "            histogram[char] += 1\n",
    "sorted_keys = list(histogram.keys())\n",
    "sorted_keys.sort()\n",
    "for key in sorted_keys:\n",
    "    print(key, \":\", histogram[key])"
   ]
  },
  {
   "cell_type": "markdown",
   "metadata": {},
   "source": [
    "## Step 3: Questions\n",
    "\n",
    "1. Explain how you handled the situation where the dictionary key does not exist? (For instance the first time you encounter a character?)\n",
    "1. I handle the situation where the dictionary key does not exist by get(char.0) and this handle that if there is no dictionary key, provice 0 \n",
    "2. What happens when you just press `ENTER` as opposed to entering some actual text? What can be done about this to provide better feedback.\n",
    "1. I used if char != \" \": to handle just press enter for input, then it just finish the loop \n",
    "3. This program is similar to the popular word cloud generators [http://www.wordclouds.com/] you can find on the Web. Describe how this program could be modified to count words instead of characters.\n",
    "1. We can handle this program to find word instead of character, by word. However we have to split the sentence first text.split(\"\") then it should shows word instead of character."
   ]
  },
  {
   "cell_type": "markdown",
   "metadata": {},
   "source": [
    "## Reminder of Evaluation Criteria\n",
    "\n",
    "1. What the problem attempted (analysis, code, and answered questions) ?\n",
    "2. What the problem analysis thought out? (does the program match the plan?)\n",
    "3. Does the code execute without syntax error?\n",
    "4. Does the code solve the intended problem?\n",
    "5. Is the code well written? (easy to understand, modular, and self-documenting, handles errors)\n"
   ]
  },
  {
   "cell_type": "code",
   "execution_count": null,
   "metadata": {
    "collapsed": true
   },
   "outputs": [],
   "source": []
  }
 ],
 "metadata": {
  "anaconda-cloud": {},
  "kernelspec": {
   "display_name": "Python 3",
   "language": "python",
   "name": "python3"
  },
  "language_info": {
   "codemirror_mode": {
    "name": "ipython",
    "version": 3
   },
   "file_extension": ".py",
   "mimetype": "text/x-python",
   "name": "python",
   "nbconvert_exporter": "python",
   "pygments_lexer": "ipython3",
   "version": "3.6.1"
  }
 },
 "nbformat": 4,
 "nbformat_minor": 1
}
