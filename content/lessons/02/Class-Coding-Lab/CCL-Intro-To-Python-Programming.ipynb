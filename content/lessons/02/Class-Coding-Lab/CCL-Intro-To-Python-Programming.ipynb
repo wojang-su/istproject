{
 "cells": [
  {
   "cell_type": "markdown",
   "metadata": {},
   "source": [
    "# Class Coding Lab: Introduction to Programming\n",
    "\n",
    "The goals of this lab are to help you to understand:\n",
    "\n",
    "1. the Jupyter and IDLE programming environments\n",
    "1. basic Python Syntax\n",
    "2. variables and their use\n",
    "3. how to sequence instructions together into a cohesive program\n",
    "4. the input() function for input and print() function for output\n"
   ]
  },
  {
   "cell_type": "markdown",
   "metadata": {
    "collapsed": true
   },
   "source": [
    "## Let's start with an example: Hello, world!\n",
    "\n",
    "This program asks for your name as input, then says hello to you as output. Most often it's the first program you write when learning a new programming language. Click in the cell below and click the run cell button."
   ]
  },
  {
   "cell_type": "code",
   "execution_count": 1,
   "metadata": {},
   "outputs": [
    {
     "name": "stdout",
     "output_type": "stream",
     "text": [
      "What is your name? woosung Jang\n",
      "Hello there woosung Jang\n"
     ]
    }
   ],
   "source": [
    "your_name = input(\"What is your name? \")\n",
    "print('Hello there',your_name)"
   ]
  },
  {
   "cell_type": "markdown",
   "metadata": {},
   "source": [
    "Believe it or not there's a lot going on in this simple two-line program, so let's break it down.\n",
    "\n",
    " - The first line:\n",
    "  - Asks you for input, prompting you `What is your Name?`\n",
    "  - It then stores your input in the variable `your_name` \n",
    " - The second line:\n",
    "  - prints out the following text: `Hello there`\n",
    "  - then prints out the contents of the variable `your_name`\n",
    "\n",
    "At this point you might have a few questions. What is a variable? Why do I need it? Why is this two lines? Etc... All will be revealed in time."
   ]
  },
  {
   "cell_type": "markdown",
   "metadata": {},
   "source": [
    "## Variables\n",
    "\n",
    "Variables are names in our code which store values. I think of variables as cardboard boxes. Boxes hold things. Variables hold things. The name of the variable is on the ouside of the box (that way you know which box it is), and value of the variable represents the contents of the box. \n",
    "\n",
    "### Variable Assignment\n",
    "\n",
    "**Assignment** is an operation where we store data in our variable. It's like packing something up in the box.\n",
    "\n",
    "In this example we assign the value \"USA\" to the variable **country**"
   ]
  },
  {
   "cell_type": "code",
   "execution_count": 2,
   "metadata": {
    "collapsed": true
   },
   "outputs": [],
   "source": [
    "# Here's an example of variable assignment. Wre\n",
    "country = 'USA'"
   ]
  },
  {
   "cell_type": "markdown",
   "metadata": {},
   "source": [
    "### Variable Access  \n",
    "\n",
    "What good is storing data if you cannot retrieve it? Lucky for us, retrieving the data in variable is as simple as calling its name:"
   ]
  },
  {
   "cell_type": "code",
   "execution_count": 3,
   "metadata": {},
   "outputs": [
    {
     "data": {
      "text/plain": [
       "'USA'"
      ]
     },
     "execution_count": 3,
     "metadata": {},
     "output_type": "execute_result"
    }
   ],
   "source": [
    "country # This should say 'USA'"
   ]
  },
  {
   "cell_type": "markdown",
   "metadata": {},
   "source": [
    "At this point you might be thinking: Can I overwrite a variable? The answer, of course, is yes! Just re-assign it a different value:"
   ]
  },
  {
   "cell_type": "code",
   "execution_count": 4,
   "metadata": {
    "collapsed": true
   },
   "outputs": [],
   "source": [
    "country = 'Canada'"
   ]
  },
  {
   "cell_type": "markdown",
   "metadata": {},
   "source": [
    "You can also access a variable multiple times. Each time it simply gives you its value:"
   ]
  },
  {
   "cell_type": "code",
   "execution_count": 5,
   "metadata": {},
   "outputs": [
    {
     "data": {
      "text/plain": [
       "('Canada', 'Canada', 'Canada')"
      ]
     },
     "execution_count": 5,
     "metadata": {},
     "output_type": "execute_result"
    }
   ],
   "source": [
    "country, country, country"
   ]
  },
  {
   "cell_type": "markdown",
   "metadata": {},
   "source": [
    "### The Purpose Of Variables\n",
    "\n",
    "Variables play an vital role in programming. Computer instructions have no memory of each other. That is one line of code has no idea what is happening in the other lines of code. The only way we can \"connect\" what happens from one line to the next is through variables. \n",
    "\n",
    "For example, if we re-write the Hello, World program at the top of the page without variables, we get the following:\n"
   ]
  },
  {
   "cell_type": "code",
   "execution_count": 6,
   "metadata": {},
   "outputs": [
    {
     "name": "stdout",
     "output_type": "stream",
     "text": [
      "What is your name? Woosung Jang\n",
      "Hello there\n"
     ]
    }
   ],
   "source": [
    "input(\"What is your name? \")\n",
    "print('Hello there')"
   ]
  },
  {
   "cell_type": "markdown",
   "metadata": {},
   "source": [
    "When you execute this program, notice there is no longer a connection between the input and the output. In fact, the input on line 1 doesn't matter because the output on line 2 doesn't know about it. It cannot because we never stored the results of the input into a variable!"
   ]
  },
  {
   "cell_type": "markdown",
   "metadata": {},
   "source": [
    "### What's in a name? Um, EVERYTHING\n",
    "\n",
    "Computer code serves two equally important purposes:\n",
    "\n",
    "1. To solve a problem (obviously)\n",
    "2. To communicate how you solved problem to another person (hmmm... I didn't think of that!)\n",
    "\n",
    "If our code does something useful, like land a rocket, predict the weather, or calculate month-end account balances then the chances are 100% certain that *someone else will need to read and understand our code.*  \n",
    "\n",
    "Therefore it's just as important we develop code that is easilty understood by both the computer and our colleagues.\n",
    "\n",
    "This starts with the names we choose for our variables. Consider the following program:"
   ]
  },
  {
   "cell_type": "code",
   "execution_count": 7,
   "metadata": {},
   "outputs": [
    {
     "name": "stdout",
     "output_type": "stream",
     "text": [
      "Enter your city: Syracuse\n",
      "Enter your state: New York\n",
      "New York Syracuse is a nice place to live\n"
     ]
    }
   ],
   "source": [
    "y = input(\"Enter your city: \")\n",
    "x = input(\"Enter your state: \")\n",
    "print(x,y,'is a nice place to live')"
   ]
  },
  {
   "cell_type": "markdown",
   "metadata": {},
   "source": [
    "What do `x` and `y` represent? Is there a semantic (design) error in this program?\n",
    "\n",
    "You might find it easy to figure out the answers to these questions, but consider this more human-friendly version:"
   ]
  },
  {
   "cell_type": "code",
   "execution_count": null,
   "metadata": {},
   "outputs": [],
   "source": [
    "state = input(\"Enter your city: \")\n",
    "city = input(\"Enter your state: \")\n",
    "print(city,state,'is a nice place to live')"
   ]
  },
  {
   "cell_type": "markdown",
   "metadata": {},
   "source": [
    "Do the aptly-named variables make it easier to find the semantic errors in this second version?\n",
    "\n",
    "### You Do It:\n",
    "\n",
    "Finally re-write this program so that it uses well-thought out variables AND in semantically correct:"
   ]
  },
  {
   "cell_type": "code",
   "execution_count": 8,
   "metadata": {},
   "outputs": [
    {
     "name": "stdout",
     "output_type": "stream",
     "text": [
      "Enter your state: New york\n",
      "Enter your city: Syracuse\n",
      "Syracuse New york is a nice place to live\n"
     ]
    }
   ],
   "source": [
    "# TODO: Code it re-write the above program to work as it should: Stating City State is a nice place to live\n",
    "state = input(\"Enter your state: \")\n",
    "city = input(\"Enter your city: \")\n",
    "print(city,state, 'is a nice place to live')"
   ]
  },
  {
   "cell_type": "markdown",
   "metadata": {},
   "source": [
    "### Now Try This:\n",
    "\n",
    "Now try to write a program which asks for two separate inputs: your first name and your last name. The program should then output `Hello` with your first name and last name.\n",
    "\n",
    "For example if you enter `Mike` for the first name and `Fudge` for the last name the program should output `Hello Mike Fudge`\n",
    "\n",
    "**HINTS**\n",
    "\n",
    " - Use appropriate variable names. If you need to create a two word variable name use an underscore in place of the space between the words. eg. `two_words` \n",
    " - You will need a separate set of inputs for each name.\n"
   ]
  },
  {
   "cell_type": "code",
   "execution_count": 9,
   "metadata": {},
   "outputs": [
    {
     "name": "stdout",
     "output_type": "stream",
     "text": [
      "What is your first name: Mike\n",
      "What is your last name: Fudge\n",
      "Hello Mike Fudge\n"
     ]
    }
   ],
   "source": [
    "# TODO: write your code here\n",
    "x = input(\"What is your first name: \")\n",
    "y = input(\"What is your last name: \")\n",
    "print('Hello', x,y)"
   ]
  },
  {
   "cell_type": "markdown",
   "metadata": {},
   "source": [
    "### Variable Concatenation: Your First Operator\n",
    "\n",
    "The `+` symbol is used to combine to variables containing text values together. Consider the following example:"
   ]
  },
  {
   "cell_type": "code",
   "execution_count": 1,
   "metadata": {},
   "outputs": [
    {
     "name": "stdout",
     "output_type": "stream",
     "text": [
      "Enter a root word, like 'ship': ship\n",
      "reshipment\n"
     ]
    }
   ],
   "source": [
    "prefix = \"re\"\n",
    "suffix = \"ment\"\n",
    "root = input(\"Enter a root word, like 'ship': \")\n",
    "print( prefix + root + suffix)"
   ]
  },
  {
   "cell_type": "markdown",
   "metadata": {},
   "source": [
    "### Now Try This\n",
    "\n",
    "Write a program to prompt for three colors as input, then outputs those three colors as a lis, informing me which one was the middle (2nd entered) color. For example if you were to enter `red` then `green` then `blue` the program would output: `Your colors were: red, green, and blue. The middle was is green.`\n",
    "\n",
    "**HINTS**\n",
    "\n",
    " - you'll need three variables one fore each input\n",
    " - you should try to make the program output like my example. This includes commas and the word `and`. \n",
    " "
   ]
  },
  {
   "cell_type": "code",
   "execution_count": 10,
   "metadata": {},
   "outputs": [
    {
     "ename": "SyntaxError",
     "evalue": "invalid syntax (<ipython-input-10-97098192c1c7>, line 5)",
     "output_type": "error",
     "traceback": [
      "\u001b[1;36m  File \u001b[1;32m\"<ipython-input-10-97098192c1c7>\"\u001b[1;36m, line \u001b[1;32m5\u001b[0m\n\u001b[1;33m    print ('Your color were: ', x, y, and z )\u001b[0m\n\u001b[1;37m                                        ^\u001b[0m\n\u001b[1;31mSyntaxError\u001b[0m\u001b[1;31m:\u001b[0m invalid syntax\n"
     ]
    }
   ],
   "source": [
    "# TODO: write your code here\n",
    "x = input(\"Top color \")\n",
    "y = input(\"Middle color \")\n",
    "z = input(\"Bottom color \")\n",
    "print ('Your color were: ', x, y, and z )\n"
   ]
  },
  {
   "cell_type": "code",
   "execution_count": 11,
   "metadata": {},
   "outputs": [
    {
     "ename": "SyntaxError",
     "evalue": "invalid syntax (<ipython-input-11-5fb0ca85728a>, line 4)",
     "output_type": "error",
     "traceback": [
      "\u001b[1;36m  File \u001b[1;32m\"<ipython-input-11-5fb0ca85728a>\"\u001b[1;36m, line \u001b[1;32m4\u001b[0m\n\u001b[1;33m    print ('Your color were: ', x, y, 'and', z, 'The middle was is' y )\u001b[0m\n\u001b[1;37m                                                                    ^\u001b[0m\n\u001b[1;31mSyntaxError\u001b[0m\u001b[1;31m:\u001b[0m invalid syntax\n"
     ]
    }
   ],
   "source": [
    "x = input(\"Top color \")\n",
    "y = input(\"Middle color \")\n",
    "z = input(\"Bottom color \")\n",
    "print ('Your color were: ', x, y, 'and', z, 'The middle was is' y )"
   ]
  },
  {
   "cell_type": "code",
   "execution_count": 12,
   "metadata": {},
   "outputs": [
    {
     "ename": "SyntaxError",
     "evalue": "unexpected EOF while parsing (<ipython-input-12-57518792a4e9>, line 4)",
     "output_type": "error",
     "traceback": [
      "\u001b[1;36m  File \u001b[1;32m\"<ipython-input-12-57518792a4e9>\"\u001b[1;36m, line \u001b[1;32m4\u001b[0m\n\u001b[1;33m    print ('Your color were: '\u001b[0m\n\u001b[1;37m                              ^\u001b[0m\n\u001b[1;31mSyntaxError\u001b[0m\u001b[1;31m:\u001b[0m unexpected EOF while parsing\n"
     ]
    }
   ],
   "source": [
    "x = input(\"Top color \")\n",
    "y = input(\"Middle color \")\n",
    "z = input(\"Bottom color \")\n",
    "print ('Your color were: '"
   ]
  },
  {
   "cell_type": "code",
   "execution_count": 13,
   "metadata": {},
   "outputs": [
    {
     "name": "stdout",
     "output_type": "stream",
     "text": [
      "Top color d\n",
      "Middle color d\n",
      "Bottom color d\n",
      "Your color were: \n"
     ]
    }
   ],
   "source": [
    "x = input(\"Top color \")\n",
    "y = input(\"Middle color \")\n",
    "z = input(\"Bottom color \")\n",
    "print('Your color were: ')"
   ]
  },
  {
   "cell_type": "code",
   "execution_count": 15,
   "metadata": {},
   "outputs": [
    {
     "ename": "SyntaxError",
     "evalue": "invalid syntax (<ipython-input-15-cad47081f0d8>, line 4)",
     "output_type": "error",
     "traceback": [
      "\u001b[1;36m  File \u001b[1;32m\"<ipython-input-15-cad47081f0d8>\"\u001b[1;36m, line \u001b[1;32m4\u001b[0m\n\u001b[1;33m    print('Your color were: ', x, y, 'and', z, 'The middle was is' y )\u001b[0m\n\u001b[1;37m                                                                   ^\u001b[0m\n\u001b[1;31mSyntaxError\u001b[0m\u001b[1;31m:\u001b[0m invalid syntax\n"
     ]
    }
   ],
   "source": [
    "x = input(\"Top color \")\n",
    "y = input(\"Middle color \")\n",
    "z = input(\"Bottom color \")\n",
    "print('Your color were: ', x, y, 'and', z, 'The middle was is' y )"
   ]
  },
  {
   "cell_type": "code",
   "execution_count": 16,
   "metadata": {},
   "outputs": [
    {
     "name": "stdout",
     "output_type": "stream",
     "text": [
      "Top color red\n",
      "Middle color green\n",
      "Bottom color yellow\n",
      "Your color were:  red green and  yellow\n"
     ]
    }
   ],
   "source": [
    "x = input(\"Top color \")\n",
    "y = input(\"Middle color \")\n",
    "z = input(\"Bottom color \")\n",
    "print('Your color were: ', x,y,'and ',z)"
   ]
  },
  {
   "cell_type": "code",
   "execution_count": 17,
   "metadata": {},
   "outputs": [
    {
     "ename": "SyntaxError",
     "evalue": "invalid syntax (<ipython-input-17-7d2a71296b67>, line 4)",
     "output_type": "error",
     "traceback": [
      "\u001b[1;36m  File \u001b[1;32m\"<ipython-input-17-7d2a71296b67>\"\u001b[1;36m, line \u001b[1;32m4\u001b[0m\n\u001b[1;33m    print('Your color were:', x,,y,,'and ',,z)\u001b[0m\n\u001b[1;37m                                ^\u001b[0m\n\u001b[1;31mSyntaxError\u001b[0m\u001b[1;31m:\u001b[0m invalid syntax\n"
     ]
    }
   ],
   "source": [
    "x = input(\"Top color \")\n",
    "y = input(\"Middle color \")\n",
    "z = input(\"Bottom color \")\n",
    "print('Your color were:', x,,y,,'and ',,z)"
   ]
  },
  {
   "cell_type": "code",
   "execution_count": 18,
   "metadata": {},
   "outputs": [
    {
     "ename": "SyntaxError",
     "evalue": "invalid syntax (<ipython-input-18-f1d4eeee69bc>, line 4)",
     "output_type": "error",
     "traceback": [
      "\u001b[1;36m  File \u001b[1;32m\"<ipython-input-18-f1d4eeee69bc>\"\u001b[1;36m, line \u001b[1;32m4\u001b[0m\n\u001b[1;33m    print('Your color were:',x',',y,',''and',z)\u001b[0m\n\u001b[1;37m                                ^\u001b[0m\n\u001b[1;31mSyntaxError\u001b[0m\u001b[1;31m:\u001b[0m invalid syntax\n"
     ]
    }
   ],
   "source": [
    "x = input(\"Top color \")\n",
    "y = input(\"Middle color \")\n",
    "z = input(\"Bottom color \")\n",
    "print('Your color were:',x',',y,',''and',z)"
   ]
  },
  {
   "cell_type": "code",
   "execution_count": 19,
   "metadata": {},
   "outputs": [
    {
     "name": "stdout",
     "output_type": "stream",
     "text": [
      "Top color Red\n",
      "Middle color Green\n",
      "Bottom color Yellow\n",
      "Your color were: Red , Green , and Yellow\n"
     ]
    }
   ],
   "source": [
    "x = input(\"Top color \")\n",
    "y = input(\"Middle color \")\n",
    "z = input(\"Bottom color \")\n",
    "print('Your color were:',x,',',y,',','and',z)"
   ]
  },
  {
   "cell_type": "code",
   "execution_count": 20,
   "metadata": {},
   "outputs": [
    {
     "name": "stdout",
     "output_type": "stream",
     "text": [
      "Top color red\n",
      "Middle color yellow\n",
      "Bottom color green\n",
      "Your color were: red , yellow , and green The middle was is yellow\n"
     ]
    }
   ],
   "source": [
    "x = input(\"Top color \")\n",
    "y = input(\"Middle color \")\n",
    "z = input(\"Bottom color \")\n",
    "print('Your color were:',x,',',y,',','and',z,'The middle was is',y)"
   ]
  },
  {
   "cell_type": "code",
   "execution_count": null,
   "metadata": {
    "collapsed": true
   },
   "outputs": [],
   "source": []
  }
 ],
 "metadata": {
  "anaconda-cloud": {},
  "kernelspec": {
   "display_name": "Python 3",
   "language": "python",
   "name": "python3"
  },
  "language_info": {
   "codemirror_mode": {
    "name": "ipython",
    "version": 3
   },
   "file_extension": ".py",
   "mimetype": "text/x-python",
   "name": "python",
   "nbconvert_exporter": "python",
   "pygments_lexer": "ipython3",
   "version": "3.6.1"
  }
 },
 "nbformat": 4,
 "nbformat_minor": 1
}
