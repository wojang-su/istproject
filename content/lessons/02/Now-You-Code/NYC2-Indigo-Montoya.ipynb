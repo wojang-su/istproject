{
 "cells": [
  {
   "cell_type": "markdown",
   "metadata": {},
   "source": [
    "# Now You Code 2: Indigo Montoya\n",
    "\n",
    "[The Pricess Bride](https://www.rottentomatoes.com/m/princess_bride/) is an adventure film from the 80's, a true cult classic. One of the many notable scenes involves a character Indigo Montoya who explains his character's motivation for revenge through the catch-phase:\n",
    "\n",
    "\"Hello. My name is Indigo Montoya. You killed my father. Prepare to die!\"\n",
    "\n",
    "You can watch the clip here: [https://www.youtube.com/watch?v=YY4cnMmo9qw](https://www.youtube.com/watch?v=YY4cnMmo9qw)\n",
    "\n",
    "Write a program in Python which asks the user to enter **your name**, a **relative** and an **past-tense action**. For example if you enter \"Indigo Montoya\", \"Father\" and \"killed\", the program will then output:\n",
    "\n",
    "\"Hello. My name is Indigo Montoya. You killed my father. Prepare to die!\"\n",
    "\n",
    "Or you could input \"Mike Fudge\", \"Uncle\" and \"Tickled\" to get:\n",
    "\n",
    "\"Hello. My name is Mike Fudge. You Tickled my Uncle. Prepare to die!\"\n"
   ]
  },
  {
   "cell_type": "markdown",
   "metadata": {
    "collapsed": true
   },
   "source": [
    "## Step 1: Problem Analysis\n",
    "\n",
    "Inputs: your_name, relative, action\n",
    "\n",
    "Outputs:Hello, My name is \"your_name\". You \"action\" my \"relative\". Prepare to die!\n",
    "\n",
    "Algorithm (Steps in Program):\n",
    "\n",
    "- Step1: make a prompt for a name\n",
    "- Step2: make a prompt for a relative\n",
    "- Step3: make a prompt for an action\n",
    "- Step4: make a prompt print Hello my name is\n",
    "- Step5: add \"your_name\" prompt which I made at Step1 and add + sign to add period sign after your_name\n",
    "- Step6: write You, \"action\", my and \"relative\" for prompt\n",
    "- Step7: add + sign before period to add period mark right after relative\n",
    "- Step8: write Prepare to die!\n",
    "- Step9: execute"
   ]
  },
  {
   "cell_type": "code",
   "execution_count": 10,
   "metadata": {},
   "outputs": [
    {
     "name": "stdout",
     "output_type": "stream",
     "text": [
      "What is your name?: Woosung Jang\n",
      "Eter a relative: father\n",
      "Enter a past-tense action: killed\n",
      "Hello, My name is Woosung Jang. You killed my father. Prepare to die!\n"
     ]
    }
   ],
   "source": [
    "# Step 2: Write code here\n",
    "your_name = input(\"What is your name?: \")\n",
    "relative = input(\"Eter a relative: \")\n",
    "action = input(\"Enter a past-tense action: \")\n",
    "print(\"Hello, My name is\", your_name+'.', \"You\", action, \"my\", relative+'.',\"Prepare to die!\")"
   ]
  },
  {
   "cell_type": "markdown",
   "metadata": {},
   "source": [
    "## Step 3: Questions\n",
    "\n",
    "1. What happens when neglect the instructions and enter a past-tense action instead of a name? Does the code still run? Why?\n",
    "\n",
    "Answer: yes, code still run because Python does not know meaning of variable, it execute what user put in.\n",
    "\n",
    "2. What type of error it when the program runs but does not handle bad input?\n",
    "\n",
    "Answer: It is a logical error based on user input\n",
    "\n",
    "3. Is there anything you can do in code to correct this type of error? Why or why not?\n",
    "\n",
    "Answer, Can be done fails when put input correctly"
   ]
  },
  {
   "cell_type": "markdown",
   "metadata": {},
   "source": [
    "## Reminder of Evaluation Criteria\n",
    "\n",
    "1. What the problem attempted (analysis, code, and answered questions) ?\n",
    "2. What the problem analysis thought out? (does the program match the plan?)\n",
    "3. Does the code execute without syntax error?\n",
    "4. Does the code solve the intended problem?\n",
    "5. Is the code well written? (easy to understand, modular, and self-documenting, handles errors)\n"
   ]
  },
  {
   "cell_type": "code",
   "execution_count": null,
   "metadata": {
    "collapsed": true
   },
   "outputs": [],
   "source": []
  }
 ],
 "metadata": {
  "anaconda-cloud": {},
  "kernelspec": {
   "display_name": "Python 3",
   "language": "python",
   "name": "python3"
  },
  "language_info": {
   "codemirror_mode": {
    "name": "ipython",
    "version": 3
   },
   "file_extension": ".py",
   "mimetype": "text/x-python",
   "name": "python",
   "nbconvert_exporter": "python",
   "pygments_lexer": "ipython3",
   "version": "3.6.1"
  }
 },
 "nbformat": 4,
 "nbformat_minor": 1
}
