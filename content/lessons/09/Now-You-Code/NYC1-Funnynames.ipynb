{
 "cells": [
  {
   "cell_type": "markdown",
   "metadata": {},
   "source": [
    "# Now You Code 1: Funny Names\n",
    "\n",
    "Write a program to \n",
    "\n",
    " 1. read the file `NYC1-funnynames.txt` into a list, by completing the provided user-defined function\n",
    " 2. sort the list of names\n",
    " 3. print the list of names one name per line.\n",
    "\n",
    "Sample Program Output:\n",
    "```\n",
    "Alma Frienzergon\n",
    "Kent Belevit\n",
    "Mitch Again\n",
    "Oliver Stuffismisson\n",
    "Sandi Shores\n",
    "Sarah Bellum\n",
    "Willie Pas-D'course\n",
    "Yolanda Ismyland\n",
    "```\n"
   ]
  },
  {
   "cell_type": "markdown",
   "metadata": {},
   "source": [
    "## Step 1: Problem Analysis for `read_names` user-defined function\n",
    "\n",
    "Inputs: None\n",
    "\n",
    "Outputs: a list of names\n",
    "\n",
    "Algorithm (Steps in Program):\n",
    "1. read filename\n",
    "2. makes string for names\n",
    "3. append text to string by line.strip\n",
    "4. return names\n",
    "    \n",
    "\n"
   ]
  },
  {
   "cell_type": "code",
   "execution_count": 12,
   "metadata": {
    "collapsed": true
   },
   "outputs": [],
   "source": [
    "# Step 2: write function\n",
    "# this function reads from \"NYC-funnynames.txt\" places the names in a list.\n",
    "# program should return a list of names\n",
    "filename = \"NYC1-funnynames.txt\"\n",
    "names = []\n",
    "def read_names(filename):\n",
    "    with open(filename, 'r') as f:\n",
    "        for line in f.readlines():\n",
    "            names.append(line.strip())\n",
    "        return names\n",
    "    #todo write code here\n"
   ]
  },
  {
   "cell_type": "markdown",
   "metadata": {
    "collapsed": true
   },
   "source": [
    "## Step 3: Problem Analysis for entire program\n",
    "\n",
    "Inputs:\n",
    "1. Using function and reacall back\n",
    "\n",
    "Outputs:\n",
    "1. return a list of names \n",
    "\n",
    "Algorithm (Steps in Program):\n",
    "1. names = read_names(filename)\n",
    "2. Use for loop to print every name\n",
    "3. print name\n",
    "\n"
   ]
  },
  {
   "cell_type": "code",
   "execution_count": 13,
   "metadata": {},
   "outputs": [
    {
     "name": "stdout",
     "output_type": "stream",
     "text": [
      "Kent Belevit\n",
      "Willie Pas-D'course\n",
      "Sarah Bellum\n",
      "Alma Frienzergon\n",
      "Yolanda Ismyland\n",
      "Oliver Stuffismisson\n",
      "Mitch Again\n",
      "Sandi Shores\n",
      "Euron Trouble\n"
     ]
    }
   ],
   "source": [
    "## Step 4: write entire program making sure to use read_names \n",
    "names = read_names(filename)\n",
    "for name in names:\n",
    "    print(name)"
   ]
  },
  {
   "cell_type": "markdown",
   "metadata": {},
   "source": [
    "## Step 5: Questions\n",
    "\n",
    "1. Does writing the `read_names` function clarify the intent of the main program in step 4? Why or why not?\n",
    "1. Yes because it clarify code to read easier and not messy.\n",
    "2. Find the `NYC-funnynames.txt` file in your `lessons/09` folder. Open the file and add the name `Euron Trouble` to the file, then save and close it. Re-run the program in step 4. Do you see the new name in the program output? Explain why or why not? \n",
    "1. Yes it works. I add Euron Trouble and run it and it works because the code starts from read_names(filename) so it directly shows the fixed result."
   ]
  },
  {
   "cell_type": "markdown",
   "metadata": {},
   "source": [
    "## Reminder of Evaluation Criteria\n",
    "\n",
    "1. What the problem attempted (analysis, code, and answered questions) ?\n",
    "2. What the problem analysis thought out? (does the program match the plan?)\n",
    "3. Does the code execute without syntax error?\n",
    "4. Does the code solve the intended problem?\n",
    "5. Is the code well written? (easy to understand, modular, and self-documenting, handles errors)\n"
   ]
  },
  {
   "cell_type": "code",
   "execution_count": null,
   "metadata": {
    "collapsed": true
   },
   "outputs": [],
   "source": []
  }
 ],
 "metadata": {
  "anaconda-cloud": {},
  "kernelspec": {
   "display_name": "Python 3",
   "language": "python",
   "name": "python3"
  },
  "language_info": {
   "codemirror_mode": {
    "name": "ipython",
    "version": 3
   },
   "file_extension": ".py",
   "mimetype": "text/x-python",
   "name": "python",
   "nbconvert_exporter": "python",
   "pygments_lexer": "ipython3",
   "version": "3.6.1"
  }
 },
 "nbformat": 4,
 "nbformat_minor": 1
}
