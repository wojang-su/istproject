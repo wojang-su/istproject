{
 "cells": [
  {
   "cell_type": "markdown",
   "metadata": {},
   "source": [
    "# In-Class Coding Lab: Conditionals\n",
    "\n",
    "The goals of this lab are to help you to understand:\n",
    "\n",
    "- Relational and Logical Operators \n",
    "- Boolean Expressions\n",
    "- The if statement\n",
    "- Try / Except statement\n",
    "- How to create a program from a complex idea.\n"
   ]
  },
  {
   "cell_type": "markdown",
   "metadata": {},
   "source": [
    "# Understanding Conditionals\n",
    "\n",
    "Conditional statements permit the non-linear execution of code. Take the following example, which detects whether the input integer is odd or even:"
   ]
  },
  {
   "cell_type": "code",
   "execution_count": null,
   "metadata": {
    "collapsed": true
   },
   "outputs": [],
   "source": [
    "number = int(input(\"Enter an integer: \"))\n",
    "if number %2==0:\n",
    "    print(\"%d is even\" % (number))\n",
    "else:\n",
    "    print(\"%d is odd\" % (number))"
   ]
  },
  {
   "cell_type": "markdown",
   "metadata": {},
   "source": [
    "Make sure to run the cell more than once, inputting both an odd and even integers to try it out. After all, we  don't know if the code really works until we test out both options. \n",
    "\n",
    "On line 2, you see `number %2 == 0` this is a Boolean expression at the center of the logic of this program. The expression says **number when divided by 2 has a reminder (%) equal to (==) zero**. The key to deciphering this is knowing how the `%` and `==` operators work. Understanding the basics, such as these, areessential to problem solving with programming, for once you understand the basics programming becomes an exercise in assembling them together into a workable solution.\n",
    "\n",
    "The `if` statement evaluates this Boolean expression and when the expression is `True`, Python executes all of the code indented underneath the `if`. In the event the Boolean expression is `False`, Python executes the code indented under the `else`.\n",
    "\n",
    "\n",
    "## Now Try It\n",
    "\n",
    "Write a similar program to input a integer and print \"Zero or Positive\" when the number is greater than or equal to zero, and \"Negative\" otherwise.\n",
    "\n",
    "To accomplish this you **must** write a Boolean expression for **number greater than or equal to zero**, which is left up to the reader."
   ]
  },
  {
   "cell_type": "code",
   "execution_count": 3,
   "metadata": {},
   "outputs": [
    {
     "name": "stdout",
     "output_type": "stream",
     "text": [
      "Enter an integer: -6\n",
      "-6 is negative\n"
     ]
    }
   ],
   "source": [
    "# TODO write your program here:\n",
    "number =  int(input(\"Enter an integer: \"))\n",
    "if number > 0:\n",
    "    print(\"%d is positive\" % (number))\n",
    "elif number == 0:\n",
    "    print(\"%d is zero\" % (number))\n",
    "else:\n",
    "    print(\"%d is negative\" % (number))\n"
   ]
  },
  {
   "cell_type": "markdown",
   "metadata": {},
   "source": [
    "# Rock, Paper Scissors\n",
    "\n",
    "In this part of the lab we'll build out a game of Rock, Paper, Scissors. If you're not familiar with the game, I suggest reading this: [https://en.wikipedia.org/wiki/Rock%E2%80%93paper%E2%80%93scissor](https://en.wikipedia.org/wiki/Rock%E2%80%93paper%E2%80%93scissors) Knowledge of the game will help you understand the lab much better.\n",
    "\n",
    "The objective of the lab is to teach you how to use conditionals but also get you thinking of how to solve problems with programming. We've said before its non-linear, with several attempts before you reach the final solution. You'll experience this first-hand in this lab as we figure things out one piece at a time and add them to our program."
   ]
  },
  {
   "cell_type": "code",
   "execution_count": null,
   "metadata": {
    "collapsed": true
   },
   "outputs": [],
   "source": [
    "## Here's our initial To-Do list, we've still got lots to figure out.\n",
    "# 1. computer opponent select one of \"rock\", \"paper\" or \"scissors\" at random\n",
    "# 2. you input one of \"rock\", \"paper\" or \"scissors\"\n",
    "# 3. play the game and determine a winnner... (not sure how to do this yet.)\n"
   ]
  },
  {
   "cell_type": "markdown",
   "metadata": {},
   "source": [
    "## Randomizing the Computer's Selection \n",
    "Let's start by coding the TO-DO list. First we need to make the computer select from \"rock\", \"paper\" or \"scissors\" at random.\n",
    "\n",
    "\n",
    "To accomplish this, we need to use python's `random` library, which is documented here: [https://docs.python.org/3/library/random.html](https://docs.python.org/3/library/random.html) \n",
    "It would appear we need to use the `choice()` function, which takes a sequence of choices and returns one at random. Let's try it out."
   ]
  },
  {
   "cell_type": "code",
   "execution_count": 5,
   "metadata": {},
   "outputs": [
    {
     "data": {
      "text/plain": [
       "'scissors'"
      ]
     },
     "execution_count": 5,
     "metadata": {},
     "output_type": "execute_result"
    }
   ],
   "source": [
    "import random\n",
    "choices = ['rock','paper','scissors']\n",
    "computer = random.choice(choices)\n",
    "computer"
   ]
  },
  {
   "cell_type": "markdown",
   "metadata": {},
   "source": [
    "Run the cell a couple of times. It should make a random selection from `choices` each time you run it.\n",
    "\n",
    "How did I figure this out? Well I started with a web search and then narrowed it down from the Python documentation. You're not there yet, but at some point in the course you will be. When you get there you will be able to teach yourself just about anything!"
   ]
  },
  {
   "cell_type": "markdown",
   "metadata": {},
   "source": [
    "## Getting input and guarding against stupidity\n",
    "\n",
    "With step one out of the way, its time to move on to step 2. Getting input from the user."
   ]
  },
  {
   "cell_type": "code",
   "execution_count": 6,
   "metadata": {},
   "outputs": [
    {
     "name": "stdout",
     "output_type": "stream",
     "text": [
      "Enter your choice: rock, paper, or scissors: pizza\n",
      "You chose pizza and the computer chose rock\n"
     ]
    }
   ],
   "source": [
    "# 1. computer opponent select one of \"rock\", \"paper\" or \"scissors\" at random\n",
    "import random\n",
    "choices = ['rock','paper','scissors']\n",
    "computer = random.choice(choices)\n",
    "\n",
    "# 2. you input one of \"rock\", \"paper\" or \"scissors\"\n",
    "you = input(\"Enter your choice: rock, paper, or scissors: \")\n",
    "print(\"You chose %s and the computer chose %s\" % (you,computer))\n"
   ]
  },
  {
   "cell_type": "markdown",
   "metadata": {},
   "source": [
    "This is taking shape, but if you re-run the example and enter `pizza` you'll notice a problem. \n",
    "\n",
    "We should guard against the situation when someone enters something other than 'rock', 'paper' or 'scissors' This is where our first conditional comes in to play.\n",
    "\n",
    "### In operator\n",
    "\n",
    "The `in` operator returns a Boolean based on whether a value is in a list of values. Let's try it:\n"
   ]
  },
  {
   "cell_type": "code",
   "execution_count": null,
   "metadata": {
    "collapsed": true
   },
   "outputs": [],
   "source": [
    "# TODO Try these:\n",
    "'rock' in choices, 'mike' in choices"
   ]
  },
  {
   "cell_type": "markdown",
   "metadata": {},
   "source": [
    "### You Do It!\n",
    "Now modify the code below to only print your and the computer's selections when your input is one of the valid choices. Replace `TODO` on line `8` with a correct Boolean expression to verify what you entered is one of the valid choices."
   ]
  },
  {
   "cell_type": "code",
   "execution_count": null,
   "metadata": {
    "collapsed": true
   },
   "outputs": [],
   "source": [
    "# 1. computer opponent select one of \"rock\", \"paper\" or \"scissors\" at random\n",
    "import random\n",
    "choices = ['rock','paper','scissors']\n",
    "computer = random.choice(choices)\n",
    "\n",
    "# 2. you input one of \"rock\", \"paper\" or \"scissors\"\n",
    "you = input(\"Enter your choice: rock, paper, or scissors: \")\n",
    "if (TODO):  # replace TODO on this line\n",
    "    print(\"You chose %s and the computer chose %s\" % (you,computer))\n",
    "    # 3. play the game and determine a winnner... (not sure how to do this yet.)\n",
    "else: \n",
    "    print(\"You didn't enter 'rock', 'paper' or 'scissors'!!!\")"
   ]
  },
  {
   "cell_type": "markdown",
   "metadata": {},
   "source": [
    "## Playing the game\n",
    "\n",
    "With the input figured out, it's time to work our final step, playing the game. The game itself has some simple rules:\n",
    "\n",
    "- rock beats scissors (rock smashes scissors)\n",
    "- scissors beats paper (scissors cuts paper)\n",
    "- paper beats rock (paper covers rock)\n",
    "\n",
    "So for example:\n",
    "\n",
    "- If you choose rock and the computer chooses paper, you lose because paper covers rock. \n",
    "- Likewise if you select rock and the computer choose scissors, you win because rock smashes scissors.\n",
    "- If you both choose rock, it's a tie.\n",
    "\n",
    "## It's too complicated!\n",
    "\n",
    "It still might seem too complicated to program this game, so let's use a process called **problem simplification** where we solve an easier version of the problem, then as our understanding grows, we increase the complexity until we solve the entire problem.\n",
    "\n",
    "One common way we simplify a problem is to constrain our input. If we force us to always choose 'rock', the program becomes a little easier to write.  \n",
    "\n"
   ]
  },
  {
   "cell_type": "code",
   "execution_count": 9,
   "metadata": {},
   "outputs": [
    {
     "name": "stdout",
     "output_type": "stream",
     "text": [
      "You chose rock and the computer chose paper\n",
      "You lose! Paper covers rock.\n"
     ]
    }
   ],
   "source": [
    "# 1. computer opponent select one of \"rock\", \"paper\" or \"scissors\" at random\n",
    "import random\n",
    "choices = ['rock','paper','scissors']\n",
    "computer = random.choice(choices)\n",
    "\n",
    "# 2. you input one of \"rock\", \"paper\" or \"scissors\"\n",
    "# for now, make this 'rock'\n",
    "you = 'rock' #input(\"Enter your choice: rock, paper, or scissors: \")\n",
    "if (you in choices):  \n",
    "    print(\"You chose %s and the computer chose %s\" % (you,computer))\n",
    "    \n",
    "    # 3. play the game and determine a winnner (assuming rock only for user)\n",
    "    if (you == 'rock' and computer == 'scissors'):\n",
    "        print(\"You win! Rock smashes scissors.\")\n",
    "    elif (you == 'rock' and computer=='paper'):\n",
    "        print(\"You lose! Paper covers rock.\")\n",
    "    else:\n",
    "        print(\"It's a tie!\")    \n",
    "else: \n",
    "    print(\"You didn't enter 'rock', 'paper' or 'scissors'!!!\")"
   ]
  },
  {
   "cell_type": "markdown",
   "metadata": {},
   "source": [
    "Run the code in the cell above enough times to verify it works. (You win, you lose and you tie.) That will ensure the code you have works as intended.\n",
    "\n",
    "## Paper: Making the program a bit more complex.\n",
    "\n",
    "With the rock logic out of the way, its time to focus on paper. We will assume you always type `paper` and then add the conditional logic to our existing code handle it.\n",
    "\n",
    "At this point you might be wondering should I make a separate `if` statement or should I chain the conditions off the current if with `elif` ?  Since this is part of the same input, it should be an extension of the existing `if` statement. You should **only** introduce an additional conditional if you're making a separate decision, for example asking the user if they want to play again. Since this is part of the same decision (did you enter 'rock', 'paper' or 'scissors' it should be in the same `if...elif` ladder.\n",
    "\n",
    "\n",
    "### You Do It\n",
    "\n",
    "In the code below, I've added the logic to address your input of 'paper' You only have to replace the `TODO` in the `print()` statements with the appropriate message. "
   ]
  },
  {
   "cell_type": "code",
   "execution_count": 22,
   "metadata": {},
   "outputs": [
    {
     "name": "stdout",
     "output_type": "stream",
     "text": [
      "You chose paper and the computer chose scissors\n",
      "You lose! Scissors cuts paper\n"
     ]
    }
   ],
   "source": [
    "# 1. computer opponent select one of \"rock\", \"paper\" or \"scissors\" at random\n",
    "import random\n",
    "choices = ['rock','paper','scissors']\n",
    "computer = random.choice(choices)\n",
    "\n",
    "# 2. you input one of \"rock\", \"paper\" or \"scissors\"\n",
    "# for now, make this 'rock'\n",
    "you = 'paper'\n",
    "if (you in choices):  \n",
    "    print(\"You chose %s and the computer chose %s\" % (you,computer))\n",
    "\n",
    "    # 3. play the game and determine a winnner (assuming paper only for user)\n",
    "    if (you == 'rock' and computer == 'scissors'):\n",
    "        print(\"You win! Rock smashes scissors.\")\n",
    "    elif (you == 'rock' and computer =='paper'):\n",
    "        print(\"You lose! Paper covers rock.\")\n",
    "    elif (you == 'paper' and computer =='rock'):\n",
    "        print(\"You win! Paper covers rock..\")\n",
    "    elif (you == 'paper' and computer == 'scissors'):\n",
    "        print(\"You lose! Scissors cuts paper\")\n",
    "    else:\n",
    "        print(\"It's a tie!\")    \n",
    "else: \n",
    "    print(\"You didn't enter 'rock', 'paper' or 'scissors'!!!\")"
   ]
  },
  {
   "cell_type": "markdown",
   "metadata": {},
   "source": [
    "## The final program\n",
    "\n",
    "With the 'rock' and 'paper' cases out of the way, we only need to add 'scissors' logic. We leave part to you as your final exercise. \n",
    "\n",
    "Similat to the 'paper' example you will need to add two `elif` statements to handle winning and losing when you select 'paper' and should also include the appropriate output messages.\n",
    "\n"
   ]
  },
  {
   "cell_type": "code",
   "execution_count": 26,
   "metadata": {},
   "outputs": [
    {
     "name": "stdout",
     "output_type": "stream",
     "text": [
      "Enter your choice: rock, paper, or scissors: scissors\n",
      "You chose scissors and the computer chose paper\n",
      "You win! Scissors cuts paper\n"
     ]
    }
   ],
   "source": [
    "# 1. computer opponent select one of \"rock\", \"paper\" or \"scissors\" at random\n",
    "import random\n",
    "choices = ['rock','paper','scissors']\n",
    "computer = random.choice(choices)\n",
    "\n",
    "# 2. you input one of \"rock\", \"paper\" or \"scissors\"\n",
    "# for now, make this 'rock'\n",
    "you = input(\"Enter your choice: rock, paper, or scissors: \")\n",
    "if (you in choices):  \n",
    "    print(\"You chose %s and the computer chose %s\" % (you,computer))\n",
    "\n",
    "    # 3. play the game and determine a winnner \n",
    "    if (you == 'rock' and computer == 'scissors'):\n",
    "        print(\"You win! Rock smashes scissors.\")\n",
    "    elif (you == 'rock' and computer=='paper'):\n",
    "        print(\"You lose! Paper covers rock.\")\n",
    "    elif (you == 'paper' and computer =='rock'):\n",
    "        print(\"You win! Paper covers rock..\")\n",
    "    elif (you == 'paper' and computer == 'scissors'):\n",
    "        print(\"You lose! Scissors cuts paper\")\n",
    "    elif (you == 'scissors' and computer == 'paper'):\n",
    "        print(\"You win! Scissors cuts paper\")\n",
    "    elif (you == 'scissors' and computer == 'rock'):\n",
    "        print(\"You lose! Rock smashes scissorsr\")\n",
    "    # TODO add logic for you == 'scissors' similar to the paper logic\n",
    "    \n",
    "    else:\n",
    "        print(\"It's a tie!\")    \n",
    "else: \n",
    "    print(\"You didn't enter 'rock', 'paper' or 'scissors'!!!\")"
   ]
  },
  {
   "cell_type": "code",
   "execution_count": null,
   "metadata": {
    "collapsed": true
   },
   "outputs": [],
   "source": []
  }
 ],
 "metadata": {
  "anaconda-cloud": {},
  "kernelspec": {
   "display_name": "Python 3",
   "language": "python",
   "name": "python3"
  },
  "language_info": {
   "codemirror_mode": {
    "name": "ipython",
    "version": 3
   },
   "file_extension": ".py",
   "mimetype": "text/x-python",
   "name": "python",
   "nbconvert_exporter": "python",
   "pygments_lexer": "ipython3",
   "version": "3.6.1"
  }
 },
 "nbformat": 4,
 "nbformat_minor": 1
}
