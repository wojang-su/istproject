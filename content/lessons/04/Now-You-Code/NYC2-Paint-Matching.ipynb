{
 "cells": [
  {
   "cell_type": "markdown",
   "metadata": {},
   "source": [
    "# Now You Code 2: Paint Pricing\n",
    "\n",
    "House Depot, a big-box hardware retailer, has contracted you to create an app to calculate paint prices. \n",
    "\n",
    "The price of paint is determined by the following factors:\n",
    "- Everyday quality paint is `$19.99` per gallon.\n",
    "- Select quality paint is `$24.99` per gallon.\n",
    "- Premium quality paint is `$32.99` per gallon.\n",
    "\n",
    "In addition if the customer wants computerized color-matching that incurs an additional fee of `$4.99` per gallon. \n",
    "\n",
    "Write a program to ask the user to select a paint quality: 'everyday', 'select' or 'premium' and then whether they need color matching and then outputs the price per gallon of the paint.\n",
    "\n",
    "Example Run 1:\n",
    "\n",
    "```\n",
    "Which paint quality do you require ['everyday', 'select', 'premium'] ?select\n",
    "Do you require color matching [y/n] ?y\n",
    "Total price of select paint with color matching is $29.98\n",
    "```\n",
    "\n",
    "Example Run 2:\n",
    "\n",
    "```\n",
    "Which paint quality do you require ['everyday', 'select', 'premium'] ?premium\n",
    "Do you require color matching [y/n] ?n\n",
    "Total price of premium paint without color matching is $32.99\n",
    "```"
   ]
  },
  {
   "cell_type": "markdown",
   "metadata": {
    "collapsed": true
   },
   "source": [
    "## Step 1: Problem Analysis\n",
    "\n",
    "Inputs:\n",
    "paint_quality = everyday, select, premium\n",
    "selection = user input from everyday, select, premium\n",
    "color_matching = user input from y/n\n",
    "cost_color_matching = 4.99 when y, 0 when n\n",
    "original_price = 19.99, 24.99, 32.99\n",
    "new_price = original_price + cost_color_matching\n",
    "Outputs:\n",
    "Total price of paint with or without color matching\n",
    "Algorithm (Steps in Program):\n",
    "if color_matching == y this gives 4.99 to cost_color_matching\n",
    "if not will be 0\n",
    "if selection is everyday original_price 19.99\n",
    "if selection is select original_price 24.99\n",
    "if selection is premium original_price 32.99\n",
    "orginal price\n",
    "\n",
    "\n"
   ]
  },
  {
   "cell_type": "code",
   "execution_count": 3,
   "metadata": {},
   "outputs": [
    {
     "name": "stdout",
     "output_type": "stream",
     "text": [
      "Which paint quality do you require ['everyday', 'select', 'premium']? select 1233\n",
      "Do you require color matching [y/n]? 3\n",
      "you must enter y or n\n"
     ]
    }
   ],
   "source": [
    "# Step 2: Write code here\n",
    "paint_quality = ['everyday','select', 'premium']\n",
    "selection = input(\"Which paint quality do you require ['everyday', 'select', 'premium']? select \")\n",
    "color_matching = input(\"Do you require color matching [y/n]? \")\n",
    "if selection in paint_quality:\n",
    "    if color_matching == 'y':\n",
    "        cost_color_matching = 4.99\n",
    "        yes_no = 'with'\n",
    "    elif color_matching == 'n':\n",
    "        cost_color_matching = 0\n",
    "        yes_no = 'witout'\n",
    "else:\n",
    "    print(\"you must enter y or n\")\n",
    "if selection == 'everyday':\n",
    "    original_price = 19.99\n",
    "elif selection == 'select':\n",
    "    original_price = 24.99\n",
    "elif selection == 'premium':\n",
    "    original_price = 32.99\n",
    "else:\n",
    "    print(\"that is not a paint quality\")\n",
    "try:\n",
    "    new_price = float(cost_color_matching) + float(original_price)\n",
    "    print(\"Total price of %s paint %s color matching is %.2f\" % (selection, yes_no, new_price))\n",
    "except:\n",
    "    print(\"Unpredictable error is occured\")\n"
   ]
  },
  {
   "cell_type": "markdown",
   "metadata": {},
   "source": [
    "## Step 3: Questions\n",
    "\n",
    "1. When you enter something other than `'everyday', 'select',` or  `'premium'` what happens? Modify the program to print `that is not a paint quality` and then exit in those cases.\n",
    "1. It just show input value what you type in when you type str,and I modify the program to print following sentence\n",
    "2. What happens when you enter something other than `'y'` or `'n'` for color matching? Re-write the program to print `you must enter y or n` whenever you enter something other than those two values.\n",
    "1. It stoped program right at that time, but I modify program to add else code\n",
    "3. Why can't we use Python's `try...except` in this example?\n",
    "because this program includes two if and else code, so when we use try and except "
   ]
  },
  {
   "cell_type": "markdown",
   "metadata": {},
   "source": [
    "## Reminder of Evaluation Criteria\n",
    "\n",
    "1. What the problem attempted (analysis, code, and answered questions) ?\n",
    "2. What the problem analysis thought out? (does the program match the plan?)\n",
    "3. Does the code execute without syntax error?\n",
    "4. Does the code solve the intended problem?\n",
    "5. Is the code well written? (easy to understand, modular, and self-documenting, handles errors)\n"
   ]
  },
  {
   "cell_type": "code",
   "execution_count": null,
   "metadata": {
    "collapsed": true
   },
   "outputs": [],
   "source": []
  }
 ],
 "metadata": {
  "anaconda-cloud": {},
  "kernelspec": {
   "display_name": "Python 3",
   "language": "python",
   "name": "python3"
  },
  "language_info": {
   "codemirror_mode": {
    "name": "ipython",
    "version": 3
   },
   "file_extension": ".py",
   "mimetype": "text/x-python",
   "name": "python",
   "nbconvert_exporter": "python",
   "pygments_lexer": "ipython3",
   "version": "3.6.1"
  }
 },
 "nbformat": 4,
 "nbformat_minor": 1
}
