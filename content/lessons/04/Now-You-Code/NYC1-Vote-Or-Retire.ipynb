{
 "cells": [
  {
   "cell_type": "markdown",
   "metadata": {},
   "source": [
    "# Now You Code 1: Vote or Retire?\n",
    "\n",
    "# Part 1\n",
    "\n",
    "Write a program to ask for your age as input, then output whether or not you can vote and whether your not you can retire. Let's assume the voting age is 18 or higher, and the retirement age is 65 or higher.\n",
    "\n",
    "**NOTE:** This program is making two seprate decisions, and thus should have two separate if else statements.\n",
    "\n",
    "Example Run:\n",
    "\n",
    "```\n",
    "Enter your age: 45\n",
    "You can vote.\n",
    "You cannot retire.\n",
    "```\n"
   ]
  },
  {
   "cell_type": "markdown",
   "metadata": {
    "collapsed": true
   },
   "source": [
    "## Step 1: Problem Analysis\n",
    "\n",
    "Inputs:\n",
    "1. Enter your age\n",
    "Outputs:\n",
    "Check you are able to vote\n",
    "Algorithm (Steps in Program):\n",
    "1. age>65: cannot vote\n",
    "2. age>18 can vote\n",
    "3. Else cannot too young\n",
    "\n"
   ]
  },
  {
   "cell_type": "code",
   "execution_count": 5,
   "metadata": {},
   "outputs": [
    {
     "name": "stdout",
     "output_type": "stream",
     "text": [
      "Enter your age: 17\n",
      "Your age is 17, cannot too young\n"
     ]
    }
   ],
   "source": [
    "#Step 2: write code here\n",
    "age = int(input(\"Enter your age: \"))\n",
    "if age > 65:\n",
    "    print(\"Your age is %d, You cannot retire\" %(age))\n",
    "elif age > 18:\n",
    "    print(\"Your age is %d, You can vote\" % (age))\n",
    "else:\n",
    "    print(\"Your age is %d, cannot too young\" % (age))    "
   ]
  },
  {
   "cell_type": "markdown",
   "metadata": {},
   "source": [
    "# Part 2\n",
    "\n",
    "Now that you got it working,  re-write your code to handle bad input using Python's `try... except` statement:\n",
    "\n",
    "Example run:\n",
    "\n",
    "```\n",
    "Enter your age: threve\n",
    "That's not an age!\n",
    "```\n",
    "\n",
    "**Note:** Exception handling is not part of our algorithm. It's a programming concern, not a problem-solving concern!"
   ]
  },
  {
   "cell_type": "code",
   "execution_count": 27,
   "metadata": {},
   "outputs": [
    {
     "name": "stdout",
     "output_type": "stream",
     "text": [
      "Enter your age: -50\n",
      "That's not an age!\n"
     ]
    }
   ],
   "source": [
    "## Step 2 (again): write code again but handle errors with try...except\n",
    "try:\n",
    "    age = int(input(\"Enter your age: \"))\n",
    "    if age >= 0:\n",
    "        if age > 65:\n",
    "            print(\"Your age is %d, You cannot retire\" %(age))\n",
    "        elif age > 18:\n",
    "            print(\"Your age is %d, You can vote\" % (age))\n",
    "        elif age < 18:\n",
    "            print(\"Your age is %d, You cannot too young\" % (age))\n",
    "    else:\n",
    "        print(\"That's not an age!\")\n",
    "except ValueError:\n",
    "    print(\"That's not an age!\")"
   ]
  },
  {
   "cell_type": "code",
   "execution_count": 20,
   "metadata": {},
   "outputs": [
    {
     "name": "stdout",
     "output_type": "stream",
     "text": [
      "Enter your age: 677\n",
      "Your age is 677, You cannot retire\n"
     ]
    }
   ],
   "source": [
    "age = int(input(\"Enter your age: \"))\n",
    "if age > 65:\n",
    "    print(\"Your age is %d, You cannot retire\" %(age))\n",
    "elif age > 18:\n",
    "    print(\"Your age is %d, You can vote\" % (age))\n",
    "elif age < 18:\n",
    "    print(\"Your age is %d, You cannot too young\" % (age))\n",
    "else:\n",
    "    print(\"Your age is %d, That's not an age\" % (age))"
   ]
  },
  {
   "cell_type": "markdown",
   "metadata": {},
   "source": [
    "## Step 3: Questions\n",
    "\n",
    "1. What specific Python Error are we handling (please provide the name of it)?\n",
    "1. It is value error and I can modify it. I can specify what will the program react if the age is less than zero.\n",
    "2. What happens when you enter an age of `-50`? Does the program still run? Fix your program so that it says `That's not an age` when a value less than zero is entered.\n",
    "1. It still run inout and I added code try and except to prevent it. I put except ValueError to prevent it."
   ]
  },
  {
   "cell_type": "markdown",
   "metadata": {},
   "source": [
    "## Reminder of Evaluation Criteria\n",
    "\n",
    "1. What the problem attempted (analysis, code, and answered questions) ?\n",
    "2. What the problem analysis thought out? (does the program match the plan?)\n",
    "3. Does the code execute without syntax error?\n",
    "4. Does the code solve the intended problem?\n",
    "5. Is the code well written? (easy to understand, modular, and self-documenting, handles errors)\n"
   ]
  },
  {
   "cell_type": "code",
   "execution_count": null,
   "metadata": {
    "collapsed": true
   },
   "outputs": [],
   "source": []
  }
 ],
 "metadata": {
  "anaconda-cloud": {},
  "kernelspec": {
   "display_name": "Python 3",
   "language": "python",
   "name": "python3"
  },
  "language_info": {
   "codemirror_mode": {
    "name": "ipython",
    "version": 3
   },
   "file_extension": ".py",
   "mimetype": "text/x-python",
   "name": "python",
   "nbconvert_exporter": "python",
   "pygments_lexer": "ipython3",
   "version": "3.6.1"
  }
 },
 "nbformat": 4,
 "nbformat_minor": 1
}
