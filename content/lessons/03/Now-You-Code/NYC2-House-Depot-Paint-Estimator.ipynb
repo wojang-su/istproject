{
 "cells": [
  {
   "cell_type": "markdown",
   "metadata": {},
   "source": [
    "# Now You Code 2: House Depot Paint Estimator\n",
    "\n",
    "The big-box hardware store *House Depot* as contracted you to write an App to estimate the amount of paint required to paint a room. Given that 1 gallon of paint covers 400 square feet, you must output the number of paint cans required to paint a rectangular room.\n",
    "\n",
    "The program should input:\n",
    "\n",
    "- the length of the room in feet, \n",
    "- the width of the room in feet,\n",
    "- the height of the room in feet\n",
    "\n",
    "The program should output:\n",
    "\n",
    "- total area to be painted ( sum of each of the 4 walls)\n",
    "- the number of gallons of paint required to paint the room.\n",
    "\n",
    "Example:\n",
    "\n",
    "```\n",
    "Enter length of room: 12\n",
    "Enter width of room: 14\n",
    "Enter height of room: 8\n",
    "Total area to be painted: 416.00\n",
    "Total gallons of paint requried: 2\n",
    "```\n",
    "\n",
    "HINT: Use the `math.ceil()` function to round your number of gallons up to the nearest whole number \n"
   ]
  },
  {
   "cell_type": "markdown",
   "metadata": {},
   "source": [
    "## Step 1: Problem Analysis\n",
    "\n",
    "Inputs:\n",
    "\n",
    "Outputs:\n",
    "\n",
    "Algorithm (Steps in Program):\n",
    "\n",
    "\n"
   ]
  },
  {
   "cell_type": "code",
   "execution_count": 13,
   "metadata": {},
   "outputs": [
    {
     "name": "stdout",
     "output_type": "stream",
     "text": [
      "Enter the length of the room in feet: -20\n",
      "Enter the width of the room in feet: -39\n",
      "Enter the height of the room in feet: -40\n",
      "Total area to be painted: 4720.00\n",
      "Total gallons of paint required: 12\n"
     ]
    }
   ],
   "source": [
    "import math # you need this to use math.ceil(), so we wrote this part of the code for you!!! LEAVE IT HERE!\n",
    "# Step 2: write code here\n",
    "length = float(input(\"Enter the length of the room in feet: \"))\n",
    "width = float(input(\"Enter the width of the room in feet: \"))\n",
    "height = float(input(\"Enter the height of the room in feet: \"))\n",
    "total_area = float(2*(width * height)+ 2*(length*height))\n",
    "gallons = 400\n",
    "total_gallons = math.ceil(total_area / gallons)\n",
    "print(\"Total area to be painted: %.2f\" % (total_area))\n",
    "print(\"Total gallons of paint required: %d\" %(total_gallons))"
   ]
  },
  {
   "cell_type": "code",
   "execution_count": null,
   "metadata": {
    "collapsed": true
   },
   "outputs": [],
   "source": [
    "# Step\n",
    "#1. Put length of room in feet\n",
    "#2. Put width of room in feet\n",
    "#3. Put height of room in feet\n",
    "#4. Total area = length * width * heigth\n",
    "#5. Total gallons of paint = total area math.celi"
   ]
  },
  {
   "cell_type": "markdown",
   "metadata": {},
   "source": [
    "## Step 3: Questions\n",
    "\n",
    "1. Why does the program still run when you enter a negative number for length?\n",
    "1, Because, code does not have any problem to run.\n",
    "2. Does the output make sense when you enter a negative length? Why type of error is this?\n",
    "1. No, output does not make a sense because it changes type to positive value during calculation. This is logical error which program has not error, but user input is wrong \n",
    "3. Why do we use `math.ceil()` in this program? In other words are you allowed to buy 3.75 gallons of paint?\n",
    "1. We use 'math.ceil()' to round up the value to the nearest upper whole number and this helps to calculate problem to round up.\n"
   ]
  },
  {
   "cell_type": "markdown",
   "metadata": {},
   "source": [
    "## Reminder of Evaluation Criteria\n",
    "\n",
    "1. What the problem attempted (analysis, code, and answered questions) ?\n",
    "2. What the problem analysis thought out? (does the program match the plan?)\n",
    "3. Does the code execute without syntax error?\n",
    "4. Does the code solve the intended problem?\n",
    "5. Is the code well written? (easy to understand, modular, and self-documenting, handles errors)\n"
   ]
  },
  {
   "cell_type": "code",
   "execution_count": null,
   "metadata": {
    "collapsed": true
   },
   "outputs": [],
   "source": []
  }
 ],
 "metadata": {
  "anaconda-cloud": {},
  "kernelspec": {
   "display_name": "Python 3",
   "language": "python",
   "name": "python3"
  },
  "language_info": {
   "codemirror_mode": {
    "name": "ipython",
    "version": 3
   },
   "file_extension": ".py",
   "mimetype": "text/x-python",
   "name": "python",
   "nbconvert_exporter": "python",
   "pygments_lexer": "ipython3",
   "version": "3.6.1"
  }
 },
 "nbformat": 4,
 "nbformat_minor": 1
}
