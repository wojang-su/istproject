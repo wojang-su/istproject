{
 "cells": [
  {
   "cell_type": "markdown",
   "metadata": {},
   "source": [
    "# Now You Code 1: Check Splitter\n",
    "\n",
    "Write a Python program which splits up a restaurant check. It first prompts you to input the total amount of your check, then the number of people dining. It should then output the amout each diner must contribute to the check.  For example:\n",
    "\n",
    "```\n",
    "*** Check Splitter ***\n",
    "How much is the amount of the check? 100.00\n",
    "How many people ? 6\n",
    "Each person owes: $16.67\n",
    "```\n",
    "\n",
    "NOTE: Use string formatters to display the output to two decimal places.\n"
   ]
  },
  {
   "cell_type": "markdown",
   "metadata": {
    "collapsed": true
   },
   "source": [
    "## Step 1: Problem Analysis\n",
    "\n",
    "Inputs:\n",
    "1. The total amount of your check\n",
    "2. The number of people dining\n",
    "Outputs:\n",
    "1. Amount each diner must contrubute to check\n",
    "Algorithm (Steps in Program):\n",
    "1. Amount each diner must contrubute to the check = float(Total amount of check) / Int(number of people dinding)\n"
   ]
  },
  {
   "cell_type": "code",
   "execution_count": null,
   "metadata": {
    "collapsed": true
   },
   "outputs": [],
   "source": [
    "# Step 2: Write code here\n",
    "total_amount = float(input(\"Enter the total amount of your check: $\"))\n",
    "people = int(input(\"Enter the number of people dining: \"))\n",
    "each_check = float(total_amount) / int(people)\n",
    "print(\"Seperate cost for dinner: $%.2f\" % (each_check))"
   ]
  },
  {
   "cell_type": "markdown",
   "metadata": {},
   "source": [
    "## Step 3: Questions\n",
    "\n",
    "1. What happens when you enter `TWO` instead of `2` for the number of people dining? or $60 as the amount of the check, instead of 60?\n",
    "1. It made symantic error because format does not match. We have to put float number for the number of people dining.\n",
    "2. What type of error is this? Do you think it can be handled in code?\n",
    "1. This error is symantic error and can be handled in code. We just can handle code by changing format of code.\n",
    "3. Explain what happens when you enter `0.5` for the number of people dining? Does the program run? Does it make sense? \n",
    "1. No, it made symantic error because number of people type is integer and cannot be 0.5.\n"
   ]
  },
  {
   "cell_type": "markdown",
   "metadata": {},
   "source": [
    "## Reminder of Evaluation Criteria\n",
    "\n",
    "1. What the problem attempted (analysis, code, and answered questions) ?\n",
    "2. What the problem analysis thought out? (does the program match the plan?)\n",
    "3. Does the code execute without syntax error?\n",
    "4. Does the code solve the intended problem?\n",
    "5. Is the code well written? (easy to understand, modular, and self-documenting, handles errors)\n"
   ]
  },
  {
   "cell_type": "code",
   "execution_count": null,
   "metadata": {},
   "outputs": [],
   "source": [
    "!pip install pandas\n",
    "!pip install lxml\n",
    "!pip install html5lib\n",
    "!pip install BeautifulSoup4"
   ]
  },
  {
   "cell_type": "code",
   "execution_count": null,
   "metadata": {
    "collapsed": true
   },
   "outputs": [],
   "source": [
    "import pandas as pd\n",
    "import html5lib\n",
    "\n",
    "import warnings\n",
    "warnings.filterwarnings('ignore')"
   ]
  },
  {
   "cell_type": "code",
   "execution_count": null,
   "metadata": {
    "scrolled": true
   },
   "outputs": [],
   "source": [
    "bmi_information = pd.DataFrame()\n",
    "website = \"https://www.nhlbi.nih.gov/health/educational/lose_wt/BMI/bmi_tbl.htm\"\n",
    "datalist = pd.read_html(website)\n",
    "website2 = \"https://www.nhlbi.nih.gov/health/educational/lose_wt/BMI/bmi_tbl2.htm\"\n",
    "datalist = pd.read_html(website2)\n",
    "bmi_information = bmi_information.append(datalist[0])\n",
    "bmi_information"
   ]
  },
  {
   "cell_type": "code",
   "execution_count": 1,
   "metadata": {},
   "outputs": [],
   "source": [
    "def pound2kg(weight_in_pound):\n",
    "    weight_in_kg = weight * 0.453592\n",
    "    return weight_in_kg"
   ]
  },
  {
   "cell_type": "code",
   "execution_count": 2,
   "metadata": {
    "collapsed": true
   },
   "outputs": [],
   "source": [
    "def inch2cm(height_in_inch):\n",
    "    height_in_cm = (height_in_inch * 2.54)\n",
    "    return height_in_cm"
   ]
  },
  {
   "cell_type": "code",
   "execution_count": 3,
   "metadata": {
    "collapsed": true
   },
   "outputs": [],
   "source": [
    "def ft2inch(height_in_ft):\n",
    "    height_in_inch = (height_in_ft * 12)\n",
    "    return height_in_inch\n",
    "\n",
    "\n"
   ]
  },
  {
   "cell_type": "code",
   "execution_count": 4,
   "metadata": {
    "collapsed": true
   },
   "outputs": [],
   "source": [
    "def bmi(height, weight):\n",
    "    bmi = weight / ((height * 0.01) * (height * 0.01))\n",
    "    return bmi"
   ]
  },
  {
   "cell_type": "code",
   "execution_count": 5,
   "metadata": {},
   "outputs": [
    {
     "name": "stdout",
     "output_type": "stream",
     "text": [
      "This is BMI calculator\n",
      "Height is in which unit [CM/Feet]: CM\n",
      "Please Enter your height: [For feet&inch please enter like (#\"#)]170\n",
      "Weight is in which unit [KG/Pound]: KG\n",
      "Please Enter your weight: 60\n",
      "Normal weight\n"
     ]
    }
   ],
   "source": [
    "print(\"This is BMI calculator\")\n",
    "unit_height = input(\"Height is in which unit [CM/Feet]: \")\n",
    "height = float((input('Please Enter your height: [For feet&inch please enter like (#\"#)]')))\n",
    "if unit_height == 'CM':\n",
    "    height_cm = height\n",
    "elif unit_height == 'Feet':\n",
    "    height_feet, height_inch = height.split('\"')\n",
    "    height_inch = height_inch + ft2inch(height_feet)\n",
    "    height_cm = inch2cm(height_inch)\n",
    "else:\n",
    "    print(\"I cannot convert that\")\n",
    "unit_weight = input(\"Weight is in which unit [KG/Pound]: \")\n",
    "weight = float((input(\"Please Enter your weight: \")))\n",
    "if unit_weight == 'KG':\n",
    "    weight_kg = weight\n",
    "elif unit_weight == 'Pound':\n",
    "    weight_kg = pound2kg(weight_in_pound)\n",
    "else:\n",
    "    print(\"I cannot convert that\")\n",
    "bmi = bmi(height_cm, weight_kg)\n",
    "if bmi <= 18.5:\n",
    "    print(\"Underweight\")\n",
    "elif bmi <=24.9:\n",
    "    print(\"Normal weight\")\n",
    "elif bmi <= 29.9:\n",
    "    print(\"Overweight\")\n",
    "else:\n",
    "    print(\"Obesity\")"
   ]
  },
  {
   "cell_type": "code",
   "execution_count": null,
   "metadata": {
    "collapsed": true
   },
   "outputs": [],
   "source": []
  }
 ],
 "metadata": {
  "anaconda-cloud": {},
  "kernelspec": {
   "display_name": "Python 3",
   "language": "python",
   "name": "python3"
  },
  "language_info": {
   "codemirror_mode": {
    "name": "ipython",
    "version": 3
   },
   "file_extension": ".py",
   "mimetype": "text/x-python",
   "name": "python",
   "nbconvert_exporter": "python",
   "pygments_lexer": "ipython3",
   "version": "3.6.1"
  }
 },
 "nbformat": 4,
 "nbformat_minor": 1
}
