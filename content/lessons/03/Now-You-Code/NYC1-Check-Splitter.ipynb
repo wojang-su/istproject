{
 "cells": [
  {
   "cell_type": "markdown",
   "metadata": {},
   "source": [
    "# Now You Code 1: Check Splitter\n",
    "\n",
    "Write a Python program which splits up a restaurant check. It first prompts you to input the total amount of your check, then the number of people dining. It should then output the amout each diner must contribute to the check.  For example:\n",
    "\n",
    "```\n",
    "*** Check Splitter ***\n",
    "How much is the amount of the check? 100.00\n",
    "How many people ? 6\n",
    "Each person owes: $16.67\n",
    "```\n",
    "\n",
    "NOTE: Use string formatters to display the output to two decimal places.\n"
   ]
  },
  {
   "cell_type": "markdown",
   "metadata": {
    "collapsed": true
   },
   "source": [
    "## Step 1: Problem Analysis\n",
    "\n",
    "Inputs:\n",
    "1. The total amount of your check\n",
    "2. The number of people dining\n",
    "Outputs:\n",
    "1. Amount each diner must contrubute to check\n",
    "Algorithm (Steps in Program):\n",
    "1. Amount each diner must contrubute to the check = float(Total amount of check) / Int(number of people dinding)\n"
   ]
  },
  {
   "cell_type": "code",
   "execution_count": null,
   "metadata": {
    "collapsed": true
   },
   "outputs": [],
   "source": [
    "# Step 2: Write code here\n",
    "total_amount = float(input(\"Enter the total amount of your check: $\"))\n",
    "people = int(input(\"Enter the number of people dining: \"))\n",
    "each_check = float(total_amount) / int(people)\n",
    "print(\"Seperate cost for dinner: $%.2f\" % (each_check))"
   ]
  },
  {
   "cell_type": "markdown",
   "metadata": {},
   "source": [
    "## Step 3: Questions\n",
    "\n",
    "1. What happens when you enter `TWO` instead of `2` for the number of people dining? or $60 as the amount of the check, instead of 60?\n",
    "1. It made symantic error because format does not match. We have to put float number for the number of people dining.\n",
    "2. What type of error is this? Do you think it can be handled in code?\n",
    "1. This error is symantic error and can be handled in code. We just can handle code by changing format of code.\n",
    "3. Explain what happens when you enter `0.5` for the number of people dining? Does the program run? Does it make sense? \n",
    "1. No, it made symantic error because number of people type is integer and cannot be 0.5.\n"
   ]
  },
  {
   "cell_type": "markdown",
   "metadata": {},
   "source": [
    "## Reminder of Evaluation Criteria\n",
    "\n",
    "1. What the problem attempted (analysis, code, and answered questions) ?\n",
    "2. What the problem analysis thought out? (does the program match the plan?)\n",
    "3. Does the code execute without syntax error?\n",
    "4. Does the code solve the intended problem?\n",
    "5. Is the code well written? (easy to understand, modular, and self-documenting, handles errors)\n"
   ]
  },
  {
   "cell_type": "code",
   "execution_count": null,
   "metadata": {
    "collapsed": true
   },
   "outputs": [],
   "source": [
    "!pip install pandas\n",
    "!pip install lxml\n",
    "!pip install html5lib\n",
    "!pip install BeautifulSoup4"
   ]
  },
  {
   "cell_type": "code",
   "execution_count": null,
   "metadata": {
    "collapsed": true
   },
   "outputs": [],
   "source": [
    "import pandas as pd\n",
    "import html5lib\n",
    "\n",
    "import warnings\n",
    "warnings.filterwarnings('ignore')"
   ]
  },
  {
   "cell_type": "code",
   "execution_count": null,
   "metadata": {
    "collapsed": true,
    "scrolled": true
   },
   "outputs": [],
   "source": [
    "bmi_information = pd.DataFrame()\n",
    "website = \"https://www.nhlbi.nih.gov/health/educational/lose_wt/BMI/bmi_tbl.htm\"\n",
    "datalist = pd.read_html(website)\n",
    "website2 = \"https://www.nhlbi.nih.gov/health/educational/lose_wt/BMI/bmi_tbl2.htm\"\n",
    "datalist = pd.read_html(website2)\n",
    "bmi_information = bmi_information.append(datalist[0])\n",
    "bmi_information"
   ]
  },
  {
   "cell_type": "code",
   "execution_count": 5,
   "metadata": {
    "collapsed": true
   },
   "outputs": [],
   "source": [
    "def pound2kg(weight):\n",
    "    weight_kg = weight * 0.453592\n",
    "    return weight_kg"
   ]
  },
  {
   "cell_type": "code",
   "execution_count": 6,
   "metadata": {
    "collapsed": true
   },
   "outputs": [],
   "source": [
    "def inch2cm(height):\n",
    "    height_cm = (height * 2.54)\n",
    "    return height_cm"
   ]
  },
  {
   "cell_type": "code",
   "execution_count": 7,
   "metadata": {
    "collapsed": true
   },
   "outputs": [],
   "source": [
    "def ft2inch(height_feet):\n",
    "    height_inch = (height_feet * 12)\n",
    "    return height_inch\n",
    "\n",
    "\n"
   ]
  },
  {
   "cell_type": "code",
   "execution_count": 8,
   "metadata": {
    "collapsed": true
   },
   "outputs": [],
   "source": [
    "def bmi(height_cm, weight_kg):\n",
    "    user_bmi = weight_kg / ((height_cm * 0.01) * (height_cm * 0.01))\n",
    "    return user_bmi"
   ]
  },
  {
   "cell_type": "code",
   "execution_count": 2,
   "metadata": {},
   "outputs": [],
   "source": [
    "def height_clear(text):\n",
    "    if text.find(\"cm\") >= 0:\n",
    "        text = text.replace(\"cm\", \"\").replace(\" \",\"\")\n",
    "        height = float(text)\n",
    "    elif text.find(\"CM\") >= 0:\n",
    "        text = text.replace(\"CM\", \"\").replace(\" \",\"\")\n",
    "        height = float(text)\n",
    "    elif text.find(\"Cm\") >= 0:\n",
    "        text = text.replace(\"CM\", \"\").replace(\" \",\"\")\n",
    "        height = float(text)\n",
    "    else:\n",
    "        text =  text.replace(\" \", \"\")\n",
    "        height = float(text)\n",
    "        \n",
    "    return height"
   ]
  },
  {
   "cell_type": "code",
   "execution_count": 4,
   "metadata": {
    "collapsed": true
   },
   "outputs": [],
   "source": [
    "def weight_clear(text):\n",
    "    if text.find(\"kg\") >= 0:\n",
    "        text = text.replace(\"kg\", \"\").replace(\" \",\"\")\n",
    "        weight = float(text)\n",
    "    elif text.find(\"KG\") >= 0:\n",
    "        text = text.replace(\"KG\", \"\").replace(\" \",\"\")\n",
    "        weight = float(text)\n",
    "    elif text.find(\"Kg\") >= 0:\n",
    "        text = text.replace(\"Kg\", \"\").replace(\" \",\"\")\n",
    "        weight = float(text)\n",
    "    elif text.find(\"Pound\") >= 0:\n",
    "        text = text.replace(\"Pound\", \"\").replace(\" \",\"\")\n",
    "        weight = float(text)\n",
    "    elif text.find(\"POUND\") >= 0:\n",
    "        text = text.replace(\"POUND\", \"\").replace(\" \",\"\")\n",
    "        weight = float(text)\n",
    "    else:\n",
    "        text =  text.replace(\" \", \"\")\n",
    "        weight = float(text)\n",
    "        \n",
    "    return weight"
   ]
  },
  {
   "cell_type": "code",
   "execution_count": null,
   "metadata": {
    "collapsed": true
   },
   "outputs": [],
   "source": [
    "try:\n",
    "    print(\"This is BMI calculator\")\n",
    "    unit_height = input(\"Height is in which unit [Cm/Feet]: \").upper().replace(' ','')\n",
    "    height = height_clear(input('Please Enter your height: [For feet&inch please enter like (#\"#)]'))\n",
    "    if unit_height == 'CM':\n",
    "        height_cm = height\n",
    "    elif unit_height == 'FEET':\n",
    "        height_feet, height_inch = height.split('\"')\n",
    "        height_feet = float(height_feet)\n",
    "        height_inch = float(height_inch)\n",
    "        height_inch = height_inch + ft2inch(height_feet)\n",
    "        height_cm = inch2cm(height_inch)\n",
    "    else:\n",
    "        print(\"I cannot convert that\")\n",
    "    unit_weight = input(\"Weight is in which unit [Kg/Pound]: \").upper().replace(' ','')\n",
    "    weight = weight_clear((input(\"Please Enter your weight: \")))\n",
    "    if unit_weight == 'KG':\n",
    "        weight_kg = float(weight)\n",
    "    elif unit_weight == 'POUND':\n",
    "        weight = float(weight)\n",
    "        weight_kg = pound2kg(weight)\n",
    "    else:\n",
    "        print(\"I cannot convert that\")\n",
    "\n",
    "    user_bmi = bmi(height_cm, weight_kg)\n",
    "    if user_bmi <= 18.5:\n",
    "        print(\"Underweight\")\n",
    "    elif user_bmi <=24.9:\n",
    "        print(\"Normal weight\")\n",
    "    elif user_bmi <= 29.9:\n",
    "        print(\"Overweight\")\n",
    "    else:\n",
    "        print(\"Obesity\")\n",
    "except ValueError:\n",
    "    print(\"Invalid Input. Program Quitting.\")\n",
    "except TypeError:\n",
    "    print(\"Cannot convert input. Program Quitting.\")"
   ]
  }
 ],
 "metadata": {
  "anaconda-cloud": {},
  "kernelspec": {
   "display_name": "Python 3",
   "language": "python",
   "name": "python3"
  },
  "language_info": {
   "codemirror_mode": {
    "name": "ipython",
    "version": 3
   },
   "file_extension": ".py",
   "mimetype": "text/x-python",
   "name": "python",
   "nbconvert_exporter": "python",
   "pygments_lexer": "ipython3",
   "version": "3.6.1"
  }
 },
 "nbformat": 4,
 "nbformat_minor": 1
}
