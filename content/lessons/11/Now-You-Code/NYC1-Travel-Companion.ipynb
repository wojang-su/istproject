{
 "cells": [
  {
   "cell_type": "markdown",
   "metadata": {},
   "source": [
    "# Now You Code 1: Travel Companion\n",
    "\n",
    "You're heading to Europe! Write a program which when you input an amount of money in USD will convert that to GBP (British Pounts) and EUR (Euro Dollars).\n",
    "\n",
    "The program should use the API: http://fixer.io/  to calculate the exchange rates. You must read and review the API before beginning.\n",
    "\n",
    "Example Run (Based on the exchange rates from 2017-03-06:\n",
    "\n",
    "```\n",
    "Enter the amount in USD you wish to exchange: 100\n",
    "100.00 in USD is 94.41 in EUR\n",
    "100.00 in USD is 81.48 in GBP\n",
    "```\n",
    "\n",
    "\n",
    "We will once again employ problem simplification. First you should write a function to get the exchange rates from fixer.io, then call that function in your main program."
   ]
  },
  {
   "cell_type": "markdown",
   "metadata": {
    "collapsed": true
   },
   "source": [
    "## Step 1: Problem Analysis `get_exchange_rates`\n",
    "\n",
    "Inputs: None\n",
    "\n",
    "Outputs: a dictionary of current exchange rates\n",
    "\n",
    "Algorithm (Steps in Program):\n",
    "1. import requests\n",
    "2. import json\n",
    "3. make function get_exchange_rates()\n",
    "4. write url address \"http://api.fixer.io/latest?base=USD\"\n",
    "5. response = requests.get(url)\n",
    "6. decode by json\n",
    "7.  rate_of_GBP = exchange_money['rates']['GBP']\n",
    "    rate_of_EUR = exchange_money['rates']['EUR']\n",
    "8. return rate_of_GBP and EUR\n"
   ]
  },
  {
   "cell_type": "code",
   "execution_count": 1,
   "metadata": {
    "collapsed": true
   },
   "outputs": [],
   "source": [
    "# Step 2: write code here for the user-defined function get_exchange_rates\n",
    "import requests\n",
    "import json\n",
    "\n",
    "def get_exchange_rates():\n",
    "    url = \"http://api.fixer.io/latest?base=USD\"\n",
    "    response = requests.get(url)\n",
    "    exchange_money = response.json()\n",
    "    rate_of_GBP = exchange_money['rates']['GBP']\n",
    "    rate_of_EUR = exchange_money['rates']['EUR']\n",
    "    return(rate_of_GBP, rate_of_EUR)\n",
    "\n"
   ]
  },
  {
   "cell_type": "code",
   "execution_count": 8,
   "metadata": {},
   "outputs": [
    {
     "data": {
      "text/plain": [
       "(0.75782, 0.84782)"
      ]
     },
     "execution_count": 8,
     "metadata": {},
     "output_type": "execute_result"
    }
   ],
   "source": [
    "# step 3: test the function\n",
    "get_exchange_rates() # should output a dictionary"
   ]
  },
  {
   "cell_type": "markdown",
   "metadata": {},
   "source": [
    "## Step 4: Problem Analysis for entire program\n",
    "\n",
    "Inputs: \n",
    "1. \"Enter the amount in USD you wish to exchange: \"\n",
    "Outputs:\n",
    "1. input in USD changes to EUR\n",
    "1. input in USD changes to GBP\n",
    "Algorithm (Steps in Program):\n",
    "1. import requests\n",
    "2. import json\n",
    "3. make function get_exchange_rates()\n",
    "4. write url address \"http://api.fixer.io/latest?base=USD\"\n",
    "5. response = requests.get(url)\n",
    "6. decode by json\n",
    "7. return exchange_money\n",
    "8. exchange_money = return of function\n",
    "9. input money in USD\n",
    "10. USD to GBP = input * exchange moneey rate GBP\n",
    "11. USD to EUR = input * exchange moneey rate EUR\n",
    "12. print USD to GBP and EUR\n"
   ]
  },
  {
   "cell_type": "code",
   "execution_count": 13,
   "metadata": {},
   "outputs": [
    {
     "name": "stdout",
     "output_type": "stream",
     "text": [
      "Enter the amount in USD you wish to exchange: 100\n",
      "75.78200000000001 84.782\n"
     ]
    }
   ],
   "source": [
    "import requests\n",
    "import json\n",
    "\n",
    "def get_exchange_rates():\n",
    "    url = \"http://api.fixer.io/latest?base=USD\"\n",
    "    response = requests.get(url)\n",
    "    exchange_money = response.json()\n",
    "    return exchange_money\n",
    "\n",
    "exchange_money = get_exchange_rates()\n",
    "money_in_USD = float(input(\"Enter the amount in USD you wish to exchange: \"))\n",
    "USD_to_GBP = money_in_USD * exchange_money['rates']['GBP']\n",
    "USD_to_EUR = money_in_USD * exchange_money['rates']['EUR']\n",
    "print(USD_to_GBP, USD_to_EUR)"
   ]
  },
  {
   "cell_type": "code",
   "execution_count": 3,
   "metadata": {
    "scrolled": false
   },
   "outputs": [
    {
     "name": "stdout",
     "output_type": "stream",
     "text": [
      "Enter the amount in USD you wish to exchange: 100\n",
      "100.00 in USD is 84.78 in EUR\n",
      "100.00 in USD is 75.78 in GBP\n"
     ]
    }
   ],
   "source": [
    "# step 5: write main program\n",
    "import requests\n",
    "import json\n",
    "\n",
    "def get_exchange_rates():\n",
    "    url = \"http://api.fixer.io/latest?base=USD\"\n",
    "    response = requests.get(url)\n",
    "    exchange_money = response.json()\n",
    "    return exchange_money\n",
    "\n",
    "try:\n",
    "    exchange_money = get_exchange_rates()\n",
    "    money_in_USD = float(input(\"Enter the amount in USD you wish to exchange: \"))\n",
    "    USD_to_GBP = money_in_USD * exchange_money['rates']['GBP']\n",
    "    USD_to_EUR = money_in_USD * exchange_money['rates']['EUR']\n",
    "    print(\"%.2f in USD is %.2f in EUR\" % (money_in_USD, USD_to_EUR))\n",
    "    print(\"%.2f in USD is %.2f in GBP\" % (money_in_USD, USD_to_GBP))\n",
    "except ValueError:\n",
    "    print(\"Invalid value, Please try to Enter other value\")\n",
    "\n",
    "except json.decoder.JSONDecodeError as e:\n",
    "    print(\"ERROR: Cannot decode the response into json\")\n",
    "    print(\"DETAILS\", e)\n",
    "\n",
    "\n",
    "except requests.exceptions.HTTPError as e:\n",
    "    print(\"ERROR: Response from \", url, 'was not ok.')\n",
    "    print(\"DETAILS:\", e)\n",
    "        \n",
    "\n",
    "except requests.exceptions.RequestException as e: \n",
    "    print(\"ERROR: Cannot connect to \", url)\n",
    "    print(\"DETAILS:\", e)\n"
   ]
  },
  {
   "cell_type": "markdown",
   "metadata": {
    "collapsed": true
   },
   "source": [
    "## Step 6: Questions\n",
    "\n",
    "1. What happens when you enter `mike` as input? Which error to you get? Fix the program in step 4 so that it handles this error.\n",
    "1. Value Error, and I it to add code for prevent value error\n",
    "2. Put your laptop in Airplane mode (disable the wifi) and then run the program. What happens? Fix the program in step 4 so that it handles this error.\n",
    "1. Fixed it"
   ]
  },
  {
   "cell_type": "markdown",
   "metadata": {},
   "source": [
    "## Reminder of Evaluation Criteria\n",
    "\n",
    "1. What the problem attempted (analysis, code, and answered questions) ?\n",
    "2. What the problem analysis thought out? (does the program match the plan?)\n",
    "3. Does the code execute without syntax error?\n",
    "4. Does the code solve the intended problem?\n",
    "5. Is the code well written? (easy to understand, modular, and self-documenting, handles errors)\n"
   ]
  },
  {
   "cell_type": "code",
   "execution_count": null,
   "metadata": {
    "collapsed": true
   },
   "outputs": [],
   "source": []
  }
 ],
 "metadata": {
  "anaconda-cloud": {},
  "kernelspec": {
   "display_name": "Python 3",
   "language": "python",
   "name": "python3"
  },
  "language_info": {
   "codemirror_mode": {
    "name": "ipython",
    "version": 3
   },
   "file_extension": ".py",
   "mimetype": "text/x-python",
   "name": "python",
   "nbconvert_exporter": "python",
   "pygments_lexer": "ipython3",
   "version": "3.6.1"
  }
 },
 "nbformat": 4,
 "nbformat_minor": 1
}
