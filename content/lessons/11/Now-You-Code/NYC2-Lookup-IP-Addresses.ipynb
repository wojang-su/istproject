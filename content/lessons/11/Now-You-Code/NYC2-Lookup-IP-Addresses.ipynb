{
 "cells": [
  {
   "cell_type": "markdown",
   "metadata": {},
   "source": [
    "# Now You Code 2: IP Addresses\n",
    "\n",
    "For this Now You Code, you will complete a very common task in data analytics: converting an IP address https://en.wikipedia.org/wiki/IP_address to an approximate location.\n",
    "\n",
    "Write a program to read the IP Addresses from the File `NYC2-IP-Addresses.txt` and for each IP address determine the approximate location (City and State) for the origin of that IP Address. This is usually done as part of analytics to determine the origins of website visitors. \n",
    "\n",
    "To perform the lookups, use the http://freegeoip.net API. **You'll have to read through the API documentation first and understand how to use the API before you write the program. **\n",
    "\n",
    "Once again, problem simplification is key here.  Just get the  IP lookup working, writing it as a function, and then try to read from the file and perform the lookups for each IP address in the file.\n",
    "\n",
    "Here's a sample of a geoip lookup of the IP Address `'128.230.182.217'`\n",
    "\n",
    "```\n",
    "{'city': 'Syracuse',\n",
    " 'country_code': 'US',\n",
    " 'country_name': 'United States',\n",
    " 'ip': '128.230.182.217',\n",
    " 'latitude': 43.0377,\n",
    " 'longitude': -76.1396,\n",
    " 'metro_code': 555,\n",
    " 'region_code': 'NY',\n",
    " 'region_name': 'New York',\n",
    " 'time_zone': 'America/New_York',\n",
    " 'zip_code': '13244'}\n",
    "```\n",
    "\n",
    "In this example the city and state would be `Syracuse, NY`\n",
    "\n",
    "\n",
    "Final Program Output will read all the addresses from the file.:\n",
    "\n",
    "```\n",
    "IP: 128.122.140.238 LOCATION: New York,NY\n",
    "IP: 23.112.232.160 LOCATION: Green Bay,WI\n",
    "IP: 23.192.215.44 LOCATION: Cambridge,MA\n",
    "IP: 23.224.160.4 LOCATION: Cheyenne,WY\n",
    "IP: 23.230.12.5 LOCATION: San Jose,CA\n",
    "IP: 23.80.125.101 LOCATION: Phoenix,AZ\n",
    "IP: 23.83.132.200 LOCATION: Phoenix,AZ\n",
    "IP: 23.88.15.5 LOCATION: Los Angeles,CA\n",
    "IP: 24.0.14.56 LOCATION: Iselin,NJ\n",
    "IP: 24.1.25.140 LOCATION: Chicago,IL\n",
    "IP: 24.11.125.10 LOCATION: Orem,UT\n",
    "IP: 24.38.114.105 LOCATION: Matawan,NJ\n",
    "IP: 24.38.224.161 LOCATION: Darien,CT\n",
    "IP: 56.216.127.219 LOCATION: Raleigh,NC\n",
    "IP: 68.199.40.156 LOCATION: Elmont,NY\n",
    "IP: 74.111.18.59 LOCATION: Auburn,NY\n",
    "IP: 74.111.6.173 LOCATION: Liverpool,NY\n",
    "IP: 98.29.25.44 LOCATION: Dayton,OH\n",
    "```\n"
   ]
  },
  {
   "cell_type": "markdown",
   "metadata": {
    "collapsed": true
   },
   "source": [
    "## Step 1: Problem Analysis for `geoiplookup` function\n",
    "\n",
    "Inputs: IP address\n",
    "\n",
    "Outputs: Dictionary of Geographic information for that IP Address\n",
    "\n",
    "Algorithm (Steps in Program):\n",
    "1. import requests\n",
    "1. import json\n",
    "1. input ip address\n",
    "1. Make function of geoiplookup\n",
    "1. use ip for function argument\n",
    "1. url =  \"http://freegeoip.net/json/\"\n",
    "1. response = requests.get(url + ip)\n",
    "1. decode it by json\n",
    "1. city = search[city]\n",
    "1. region = search[region_code]\n",
    "1. print ip: ip, location: city, region_code"
   ]
  },
  {
   "cell_type": "code",
   "execution_count": 5,
   "metadata": {},
   "outputs": [
    {
     "name": "stdout",
     "output_type": "stream",
     "text": [
      "Enter the ip address: 128.230.182.217\n",
      "IP: 128.230.182.217 Location: Syracuse , NY\n"
     ]
    }
   ],
   "source": [
    "# Step 2: write the user defined function `geoiplookup`\n",
    "import requests\n",
    "import json\n",
    "ip = input(\"Enter the ip address: \")\n",
    "\n",
    "def geoiplookup(ip):\n",
    "    url = \"http://freegeoip.net/json/\"\n",
    "    response = requests.get(url+ip)\n",
    "    search = response.json()\n",
    "    city = search['city']\n",
    "    region = search['region_code']\n",
    "    print(\"IP:\", ip, \"Location:\", city, \",\", region)\n",
    "\n",
    "geoiplookup(ip)"
   ]
  },
  {
   "cell_type": "markdown",
   "metadata": {},
   "source": [
    "## Step 3: Problem Analysis for entire program\n",
    "\n",
    "Inputs: None\n",
    "\n",
    "Outputs:\n",
    "1. IP: input LOCATION: city, region code(ex NY)\n",
    "\n",
    "Algorithm (Steps in Program):\n",
    "1. Make a list for ip\n",
    "1. url = \"http://freegeoip.net/json/\"\n",
    "1. filename = \"NYC2-IP-Addresses.txt\"\n",
    "1. open file as f\n",
    "1. for line in f append contents of text and line strip\n",
    "1. close function\n",
    "1. try response = reqiests. get(url + ip)\n",
    "1. response.raise_for_status()\n",
    "1. data = decode it by json\n",
    "1. use function to ip address in list\n",
    "1. prevent Value error, indext error jsonDecodeError and request exception\n",
    "1. print ip and location in ip addresses of text file"
   ]
  },
  {
   "cell_type": "code",
   "execution_count": 6,
   "metadata": {},
   "outputs": [
    {
     "name": "stdout",
     "output_type": "stream",
     "text": [
      "Do not run this program in network outage\n",
      "IP: 128.122.140.238 Location: New York , NY\n",
      "IP: 23.112.232.160 Location: Green Bay , WI\n",
      "IP: 23.192.215.44 Location: Cambridge , MA\n",
      "IP: 23.224.160.4 Location: Los Angeles , CA\n",
      "IP: 23.230.12.5 Location: San Jose , CA\n",
      "IP: 23.80.125.101 Location: Phoenix , AZ\n",
      "IP: 23.83.132.200 Location: Phoenix , AZ\n",
      "IP: 23.88.15.5 Location: Los Angeles , CA\n",
      "IP: 24.0.14.56 Location: Perth Amboy , NJ\n",
      "IP: 24.1.25.140 Location: Chicago , IL\n",
      "IP: 24.11.125.10 Location: Pleasant Grove , UT\n",
      "IP: 24.38.114.105 Location:  , \n",
      "IP: 24.38.224.161 Location: Darien , CT\n",
      "IP: 56.216.127.219 Location: Raleigh , NC\n",
      "IP: 68.199.40.156 Location: Franklin Square , NY\n",
      "IP: 74.111.18.59 Location: Auburn , NY\n",
      "IP: 74.111.6.173 Location: Clay , NY\n",
      "IP: 98.29.25.44 Location: Dayton , OH\n"
     ]
    }
   ],
   "source": [
    "# Step 4: write main program here\n",
    "print(\"Do not run this program in network outage\")\n",
    "ip_list = []\n",
    "url = \"http://freegeoip.net/json/\"\n",
    "filename = \"NYC2-IP-Addresses.txt\"\n",
    "\n",
    "with open (filename) as f:\n",
    "    for line in f:\n",
    "        ip_list.append(line.strip())\n",
    "    f.close()\n",
    "try:\n",
    "    response = requests.get(url+ip)\n",
    "    response.raise_for_status()\n",
    "    data = response.json()\n",
    "    for ip in ip_list:\n",
    "        geoiplookup(ip)\n",
    "\n",
    "except ValueError:\n",
    "    print(\"Please put valid value\")\n",
    "\n",
    "except IndexError:\n",
    "    print(\"Invalid location\")\n",
    "\n",
    "except json.decoder.JSONDecodeError as e: \n",
    "    print(\"ERROR: Cannot decode the response into json\")\n",
    "    print(\"DETAILS\", e)\n",
    "\n",
    "except requests.exceptions.HTTPError as e:\n",
    "    print(\"ERROR: Response from \", url, 'was not ok.')\n",
    "    print(\"DETAILS:\", e)\n",
    "        \n",
    "except requests.exceptions.RequestException as e: \n",
    "    print(\"ERROR: Cannot connect to \", url)\n",
    "    print(\"DETAILS:\", e)\n",
    "\n",
    "\n",
    "\n"
   ]
  },
  {
   "cell_type": "markdown",
   "metadata": {},
   "source": [
    "## Step 5: Questions\n",
    "\n",
    "1. Place your laptop in Airplane mode and run the program. How can this program be modified so that it will not error in the event of a network outage? \n",
    "1. There should be NewConnectionError. I just add comment to do not run this program in network outage.\n",
    "2. In what other ways can this program be modified to be more useful?\n",
    "1. I prevent value error for this program by adding value error\n",
    "3. What is the advantage of reading the IP Addresses from a file as opposed to entering them in ar run time?\n",
    "1. It is faster to read and run than entering them in a run time"
   ]
  },
  {
   "cell_type": "markdown",
   "metadata": {},
   "source": [
    "## Reminder of Evaluation Criteria\n",
    "\n",
    "1. What the problem attempted (analysis, code, and answered questions) ?\n",
    "2. What the problem analysis thought out? (does the program match the plan?)\n",
    "3. Does the code execute without syntax error?\n",
    "4. Does the code solve the intended problem?\n",
    "5. Is the code well written? (easy to understand, modular, and self-documenting, handles errors)\n"
   ]
  },
  {
   "cell_type": "code",
   "execution_count": null,
   "metadata": {
    "collapsed": true
   },
   "outputs": [],
   "source": []
  }
 ],
 "metadata": {
  "anaconda-cloud": {},
  "kernelspec": {
   "display_name": "Python 3",
   "language": "python",
   "name": "python3"
  },
  "language_info": {
   "codemirror_mode": {
    "name": "ipython",
    "version": 3
   },
   "file_extension": ".py",
   "mimetype": "text/x-python",
   "name": "python",
   "nbconvert_exporter": "python",
   "pygments_lexer": "ipython3",
   "version": "3.6.1"
  }
 },
 "nbformat": 4,
 "nbformat_minor": 1
}
