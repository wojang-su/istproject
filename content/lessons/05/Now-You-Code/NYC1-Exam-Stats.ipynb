{
 "cells": [
  {
   "cell_type": "markdown",
   "metadata": {},
   "source": [
    "# Now You Code 1: Exam Stats\n",
    "\n",
    "Write a program to input exam scores (out of 100) until you enter 'quit'. After you finish entering exam scores the program will print out the average of all the exam scores.\n",
    "\n",
    "**HINTS:** \n",
    "\n",
    "- To figure out the average you must keep a running total of exam scores and a count of the number entered.\n",
    "- Try to make the program work 1 time, then figure out the exit condition and use a while True: loop.\n",
    "\n",
    "Example Run:\n",
    "\n",
    "```\n",
    "Enter exam score or type 'quit': 100\n",
    "Enter exam score or type 'quit': 100\n",
    "Enter exam score or type 'quit': 50\n",
    "Enter exam score or type 'quit': quit\n",
    "Number of scores 3. Average is 83.33\n",
    "```"
   ]
  },
  {
   "cell_type": "markdown",
   "metadata": {
    "collapsed": true
   },
   "source": [
    "## Step 1: Problem Analysis\n",
    "\n",
    "Inputs:\n",
    "1. exam scores out of 100 until you enter quit\n",
    "Outputs:\n",
    "2. average of scores you entered\n",
    "Algorithm (Steps in Program):\n",
    "1. input(\"Enter exam score or type 'quit'\": )\n",
    "2. make a quit for break statment\n",
    "3. set up user_input <= 100\n",
    "4. set up total_scores = int(user_input) + total_scores\n",
    "5. set up count_scores = count_scores + 1\n",
    "6. print (\"Number of scores %d. Average is %.2f\" % (count_scores, average_score))\n",
    "7. set up condition when user_input < 0, user_input > 100\n",
    "\n"
   ]
  },
  {
   "cell_type": "code",
   "execution_count": 7,
   "metadata": {},
   "outputs": [
    {
     "name": "stdout",
     "output_type": "stream",
     "text": [
      "Enter exam score or type 'quit': 20\n",
      "Enter exam score or type 'quit': 30\n",
      "Enter exam score or type 'quit': 40\n",
      "Enter exam score or type 'quit': quit\n",
      "Number of scores 3. Average is 30.00\n"
     ]
    }
   ],
   "source": [
    "# Write Code here:\n",
    "count_scores = 0\n",
    "total_scores = 0\n",
    "try:\n",
    "    while True:\n",
    "        user_input = input(\"Enter exam score or type 'quit': \")\n",
    "        if user_input == 'quit':\n",
    "             break\n",
    "        elif int(user_input) < 0:\n",
    "            print(\"You cannot put exam score below 0\")\n",
    "        elif int(user_input) <= 100:\n",
    "            total_scores = int(user_input) + total_scores\n",
    "            count_scores = count_scores + 1\n",
    "        elif int(user_input) > 100:\n",
    "            print(\"You cannot put exam score over 100\")\n",
    "        average_score = float(total_scores) / count_scores\n",
    "    print(\"Number of scores %d. Average is %.2f\" % (count_scores, average_score))\n",
    "except ZeroDivisionError:\n",
    "    print(\"You cannot divide score by 0\")"
   ]
  },
  {
   "cell_type": "markdown",
   "metadata": {},
   "source": [
    "## Reminder of Evaluation Criteria\n",
    "\n",
    "1. What the problem attempted (analysis, code, and answered questions) ?\n",
    "2. What the problem analysis thought out? (does the program match the plan?)\n",
    "3. Does the code execute without syntax error?\n",
    "4. Does the code solve the intended problem?\n",
    "5. Is the code well written? (easy to understand, modular, and self-documenting, handles errors)\n"
   ]
  },
  {
   "cell_type": "markdown",
   "metadata": {},
   "source": [
    "## Step 3: Questions\n",
    "\n",
    "1. What is the loop control variable in this program? \n",
    "1. True is control variable in this program. Because it loops infinetely when is true without special conditions.\n",
    "2. What is the exit or terminating condition of the loop in this program?\n",
    "1. exit or terminationg condition of the loop program is break when user put quit for input.\n",
    "3. What happens when you enter an exam score outside the range of 0 to 100? Re-write your code to not accept exam scores outside this range. \n",
    "1. Program is still working, but cannot operate it's original purpose. It shows weird results by number. So re-write code using elif to prevent similar kind of error.\n",
    "\n"
   ]
  },
  {
   "cell_type": "code",
   "execution_count": 9,
   "metadata": {},
   "outputs": [
    {
     "name": "stdout",
     "output_type": "stream",
     "text": [
      "Enter exam score or type 'quit': 20\n",
      "Enter exam score or type 'quit': -2\n",
      "You cannot put exam score below 0\n",
      "Enter exam score or type 'quit': 102\n",
      "You cannot put exam score over 100\n",
      "Enter exam score or type 'quit': 30\n",
      "Enter exam score or type 'quit': quit\n",
      "Number of scores 2. Average is 25.00\n"
     ]
    }
   ],
   "source": [
    "# Write Code here:\n",
    "count_scores = 0\n",
    "total_scores = 0\n",
    "while True:\n",
    "    user_input = input(\"Enter exam score or type 'quit': \")\n",
    "    if user_input == 'quit':\n",
    "            break\n",
    "    elif int(user_input) < 0:\n",
    "        print(\"You cannot put exam score below 0\")\n",
    "    elif int(user_input) > 100:\n",
    "        print(\"You cannot put exam score over 100\")\n",
    "    elif int(user_input) <= 100:\n",
    "        total_scores = int(user_input) + total_scores\n",
    "        count_scores = count_scores + 1\n",
    "        average_score = float(total_scores) / count_scores\n",
    "print(\"Number of scores %d. Average is %.2f\" % (count_scores, average_score))"
   ]
  },
  {
   "cell_type": "code",
   "execution_count": null,
   "metadata": {
    "collapsed": true
   },
   "outputs": [],
   "source": []
  }
 ],
 "metadata": {
  "anaconda-cloud": {},
  "kernelspec": {
   "display_name": "Python 3",
   "language": "python",
   "name": "python3"
  },
  "language_info": {
   "codemirror_mode": {
    "name": "ipython",
    "version": 3
   },
   "file_extension": ".py",
   "mimetype": "text/x-python",
   "name": "python",
   "nbconvert_exporter": "python",
   "pygments_lexer": "ipython3",
   "version": "3.6.1"
  }
 },
 "nbformat": 4,
 "nbformat_minor": 1
}
