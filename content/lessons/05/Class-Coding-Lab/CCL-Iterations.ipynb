{
 "cells": [
  {
   "cell_type": "markdown",
   "metadata": {},
   "source": [
    "# In-Class Coding Lab: Iterations\n",
    "\n",
    "The goals of this lab are to help you to understand:\n",
    "\n",
    "- How loops work.\n",
    "- The difference between definite and indefinite loops, and when to use each.\n",
    "- How to build an indefinite loop with complex exit conditions.\n",
    "- How to create a program from a complex idea.\n"
   ]
  },
  {
   "cell_type": "markdown",
   "metadata": {},
   "source": [
    "# Understanding Iterations\n",
    "\n",
    "Iterations permit us to repeat code until a Boolean expression is `False`. Iterations or **loops** allow us to write succint, compact code. Here's an example, which counts to 3 before [Blitzing the Quarterback in backyard American Football](https://www.quora.com/What-is-the-significance-of-counting-one-Mississippi-two-Mississippi-and-so-on):"
   ]
  },
  {
   "cell_type": "code",
   "execution_count": null,
   "metadata": {
    "collapsed": true
   },
   "outputs": [],
   "source": [
    "i = 1\n",
    "while i <= 3:\n",
    "    print(i,\"Mississippi...\")\n",
    "    i=i+1\n",
    "print(\"Blitz!\")"
   ]
  },
  {
   "cell_type": "markdown",
   "metadata": {},
   "source": [
    "## Breaking it down...\n",
    "\n",
    "The `while` statement on line 2 starts the loop. The code indented beneath it (lines 3-4) will repeat, in a linear fashion until the Boolean expression on line 2 `i <= 3` is `False`, at which time the program continues with line 5.\n",
    "\n",
    "### Some Terminology\n",
    "\n",
    "We call `i <=3` the loop's **exit condition**. The variable `i` inside the exit condition is the only thing that we can change to make the exit condition `False`, therefore it is the **loop control variable**. On line 4 we change the loop control variable by adding one to it, this is called an **increment**.\n",
    "\n",
    "Furthermore, we know how many times this loop will execute before it actually runs: 3. Even if we allowed the user to enter a number, and looped that many times, we would still know. We call this a **definite loop**. Whenever we iterate over a fixed number of values, regardless of whether those values are determined at run-time or not, we're using a definite loop.\n",
    "\n",
    "If the loop control variable never forces the exit condition to be `False`, we have an **infinite loop**. As the name implies, an Infinite loop never ends and typically causes our computer to crash or lock up.   "
   ]
  },
  {
   "cell_type": "code",
   "execution_count": null,
   "metadata": {
    "collapsed": true
   },
   "outputs": [],
   "source": [
    "## WARNING!!! INFINITE LOOP AHEAD\n",
    "## IF YOU RUN THIS CODE YOU WILL NEED TO KILL YOUR BROWSER AND SHUT DOWN JUPYTER NOTEBOOK\n",
    "\n",
    "i = 1\n",
    "while i <= 3:\n",
    "    print(i,\"Mississippi...\")\n",
    "#    i=i+1\n",
    "print(\"Blitz!\")"
   ]
  },
  {
   "cell_type": "markdown",
   "metadata": {},
   "source": [
    "### For loops\n",
    "\n",
    "To prevent an infinite loop when the loop is definite, we use the `for` statement. Here's the same program using `for`:"
   ]
  },
  {
   "cell_type": "code",
   "execution_count": null,
   "metadata": {
    "collapsed": true
   },
   "outputs": [],
   "source": [
    "for i in range(1,4):\n",
    "    print(i,\"Mississippi...\")\n",
    "print(\"Blitz!\")"
   ]
  },
  {
   "cell_type": "markdown",
   "metadata": {},
   "source": [
    "One confusing aspect of this loop is `range(1,4)` why does this loop from 1 to 3? Why not 1 to 4? Well it has to do with the fact that computers start counting at zero. The easier way to understand it is if you subtract the two numbers you get the number of times it will loop. So for example, 4-1 == 3.\n",
    "\n",
    "### Now Try It\n",
    "\n",
    "In the space below, Re-Write the above program to count from 10 to 15. Note: How many times will that loop?"
   ]
  },
  {
   "cell_type": "code",
   "execution_count": null,
   "metadata": {
    "collapsed": true
   },
   "outputs": [],
   "source": [
    "# TODO Write code here\n",
    "for i in range(10,16,1):\n",
    "    print(i,\"Mississippi...\")\n",
    "print(\"Blitz!\")"
   ]
  },
  {
   "cell_type": "markdown",
   "metadata": {},
   "source": [
    "## Indefinite loops\n",
    "\n",
    "With **indefinite loops** we do not know how many times the program will execute. This is typically based on user action, and therefore our loop is subject to the whims of whoever interacts with it. Most applications like spreadsheets, photo editors, and games use indefinite loops. They'll run on your computer, seemingly forever, until you choose to quit the application.  \n",
    "\n",
    "The classic indefinite loop pattern involves getting input from the user inside the loop. We then inspect the input and based on that input we might exit the loop. Here's an example:"
   ]
  },
  {
   "cell_type": "code",
   "execution_count": null,
   "metadata": {
    "collapsed": true
   },
   "outputs": [],
   "source": [
    "name = \"\"\n",
    "while name != 'mike':\n",
    "    name = input(\"Say my name! : \")\n",
    "    print(\"Nope, my name is not %s! \" %(name))"
   ]
  },
  {
   "cell_type": "markdown",
   "metadata": {},
   "source": [
    "The classic problem with indefinite loops is that its really difficult to get the application's logic to line up with the exit condition. For example we need to set `name = \"\"` in line 1 so that line 2 start out as `True`. Also we have this wonky logic where when we say `'mike'` it still prints `Nope, my name is not mike!` before exiting.\n",
    "\n",
    "### Break statement\n",
    "\n",
    "The solution to this problem is to use the break statement. **break** tells Python to exit the loop immediately. We then re-structure all of our indefinite loops to look like this:\n",
    "\n",
    "```\n",
    "while True:\n",
    "    if exit-condition:\n",
    "        break\n",
    "```\n",
    "\n",
    "Here's our program we-written with the break statement. This is the recommended way to write indefinite loops in this course."
   ]
  },
  {
   "cell_type": "code",
   "execution_count": null,
   "metadata": {
    "collapsed": true
   },
   "outputs": [],
   "source": [
    "while True:\n",
    "    name = input(\"Say my name!: \")\n",
    "    if name == 'mike':\n",
    "        break\n",
    "    print(\"Nope, my name is not %s!\" %(name))"
   ]
  },
  {
   "cell_type": "markdown",
   "metadata": {},
   "source": [
    "### Multiple exit conditions\n",
    "\n",
    "This indefinite loop pattern makes it easy to add additional exit conditions. For example, here's the program again, but it now stops when you say my name or type in 3 wrong names. Make sure to run this program a couple of times. First enter mike to exit the program, next enter the wrong name 3 times."
   ]
  },
  {
   "cell_type": "code",
   "execution_count": null,
   "metadata": {
    "collapsed": true
   },
   "outputs": [],
   "source": [
    "times = 0\n",
    "while True:\n",
    "    name = input(\"Say my name!: \")\n",
    "    times = times + 1\n",
    "    if name == 'mike':\n",
    "        print(\"You got it!\")\n",
    "        break\n",
    "    if times == 3:\n",
    "        print(\"Game over. Too many tries!\")\n",
    "        break\n",
    "    print(\"Nope, my name is not %s!\" %(name))"
   ]
  },
  {
   "cell_type": "markdown",
   "metadata": {},
   "source": [
    "# Number sums\n",
    "\n",
    "Let's conclude the lab with you writing your own program which\n",
    "\n",
    "uses an indefinite loop. We'll provide the to-do list, you write the code. This program should ask for floating point numbers as input and stops looping when **the total of the numbers entered is over 100**, or **more than 5 numbers have been entered**. Those are your two exit conditions. After the loop stops print out the total of the numbers entered and the count of numbers entered. "
   ]
  },
  {
   "cell_type": "code",
   "execution_count": null,
   "metadata": {
    "collapsed": true
   },
   "outputs": [],
   "source": [
    "## TO-DO List\n",
    "\n",
    "#1   count = 0\n",
    "#2   total = 0\n",
    "#3   loop Indefinitely\n",
    "#4.     input a number\n",
    "#5      increment count\n",
    "#6      add number to total\n",
    "#7      if count equals 5 stop looping\n",
    "#8      if total greater than 100 stop looping\n",
    "#9 print total and count"
   ]
  },
  {
   "cell_type": "code",
   "execution_count": 4,
   "metadata": {},
   "outputs": [
    {
     "name": "stdout",
     "output_type": "stream",
     "text": [
      "Enter your number: 1\n",
      "Enter your number: 2\n",
      "Enter your number: 3\n",
      "Enter your number: 4\n",
      "Enter your number: 5\n",
      "Too many tries!\n",
      "total: 15.00, count: 5\n"
     ]
    }
   ],
   "source": [
    "# Write Code here:\n",
    "count = 0\n",
    "total = 0\n",
    "user_input = 0\n",
    "try:\n",
    "    while True:\n",
    "        user_input = float(input(\"Enter your number: \"))\n",
    "        count = count + 1\n",
    "        total = total + user_input\n",
    "        if count == 5:\n",
    "            print(\"Too many tries!\")\n",
    "            break\n",
    "        elif total > 100:\n",
    "            print(\"Put a number lower than 100\")\n",
    "            break\n",
    "    print(\"total: %.2f, count: %d\" % (total, user_input))\n",
    "except ValueError:\n",
    "    print(\"You did not enter a number!\")\n",
    "    \n"
   ]
  },
  {
   "cell_type": "markdown",
   "metadata": {},
   "source": [
    "# "
   ]
  }
 ],
 "metadata": {
  "anaconda-cloud": {},
  "kernelspec": {
   "display_name": "Python 3",
   "language": "python",
   "name": "python3"
  },
  "language_info": {
   "codemirror_mode": {
    "name": "ipython",
    "version": 3
   },
   "file_extension": ".py",
   "mimetype": "text/x-python",
   "name": "python",
   "nbconvert_exporter": "python",
   "pygments_lexer": "ipython3",
   "version": "3.6.1"
  }
 },
 "nbformat": 4,
 "nbformat_minor": 1
}
