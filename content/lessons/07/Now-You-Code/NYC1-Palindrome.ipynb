{
 "cells": [
  {
   "cell_type": "markdown",
   "metadata": {},
   "source": [
    "# Now You Code 1: Palindrome Detector\n",
    "\n",
    "Write a program to detect palindromes [https://en.wikipedia.org/wiki/Palindrome]. A palindrome is defined as a word or phrase which is the same in reverse. Here's some example's of one word palindromes:\n",
    "\n",
    "```\n",
    "dad\n",
    "wow\n",
    "pop\n",
    "abba\n",
    "noon\n",
    "kayak\n",
    "madam\n",
    "solos\n",
    "racecar\n",
    "```\n",
    "\n",
    "There's several ways you accomplish this but we'd recommend using Python's extended slice notation as covered in the readings. It's by far the simplest method. \n",
    "\n",
    "The final program should take input and return whether the text is or is not a palindrome until you enter `quit`.\n",
    "\n",
    "Sample run of complete program:\n",
    "\n",
    "```\n",
    "Enter text or type `quit`: dad\n",
    "'dad' is a palindrome.\n",
    "Enter text or type `quit`: pappa\n",
    "'pappa' is not a palindrome.\n",
    "Enter text or type `quit`: quit\n",
    "```\n",
    "\n",
    "Once again we will use the problem simplification technique to writing this program.\n",
    "\n",
    "First we will write the `isPalindrome(text)` function, then we will write the main program.\n"
   ]
  },
  {
   "cell_type": "markdown",
   "metadata": {},
   "source": [
    "## Step 1: Problem Analysis for isPalindrome function only\n",
    "\n",
    "Inputs:\n",
    "1. user input text\n",
    "\n",
    "Outputs: \n",
    "1. Check palindrome\n",
    "1. if is palindrome print is a palindrome\n",
    "1. if is not palindrome print is not\n",
    "Algorithm (Steps in Program):\n",
    "1. First make a function isPalindrome for check palindrome\n",
    "2. Define reversed text using by [::-1]\n",
    "3. If orginal text is same with reversed - return true\n",
    "4. if is not same - return false\n"
   ]
  },
  {
   "cell_type": "code",
   "execution_count": 5,
   "metadata": {
    "collapsed": true
   },
   "outputs": [],
   "source": [
    "## Step 2: todo write function definition here\n",
    "def isPalindrome(text):\n",
    "    reversed_text = text[::-1]\n",
    "    if text == reversed_text:\n",
    "        return True\n",
    "    else:\n",
    "        return False"
   ]
  },
  {
   "cell_type": "code",
   "execution_count": 6,
   "metadata": {},
   "outputs": [
    {
     "name": "stdout",
     "output_type": "stream",
     "text": [
      "Input: kayak Should be True, Actual Value: True\n",
      "Input: mike Should be False, Actual Value: False\n"
     ]
    }
   ],
   "source": [
    "## step 3: test the isPalindrome function to make sure it works:\n",
    "print(\"Input:\", \"kayak\", \"Should be True, Actual Value:\", isPalindrome(\"kayak\") )\n",
    "print(\"Input:\", \"mike\", \"Should be False, Actual Value:\", isPalindrome(\"mike\") )"
   ]
  },
  {
   "cell_type": "markdown",
   "metadata": {},
   "source": [
    "## Step 4: Problem Analysis for full Program\n",
    "\n",
    "Inputs:\n",
    "1. user input text\n",
    "2. or type quit to exit program\n",
    "Outputs: \n",
    "1. If user write 'quit' - exit\n",
    "1. if user write other - then check palindrome\n",
    "1. if is palindrome print is a palindrome\n",
    "1. if is not palindrome print is not\n",
    "Algorithm (Steps in Program):\n",
    "1. First make a function isPalindrome for check palindrome\n",
    "2. Define reversed text using by [::-1]\n",
    "3. If orginal text is same with reversed - return true\n",
    "4. if is not same - return false\n",
    "5. Make a loop condition for program\n",
    "6. input(Enter your text or type 'quit')\n",
    "7. make a break statement for 'quit'\n",
    "8. if user input is not quit, then call fuction\n",
    "9. If function is true - palindrome\n",
    "10. if function is false - is not a palindrome\n"
   ]
  },
  {
   "cell_type": "code",
   "execution_count": 7,
   "metadata": {},
   "outputs": [
    {
     "name": "stdout",
     "output_type": "stream",
     "text": [
      "Enter your text or type 'quit': dijijf\n",
      "This is not a palindrome\n",
      "Enter your text or type 'quit': uqqu\n",
      "this is a palindrome\n",
      "Enter your text or type 'quit': rotcctor\n",
      "this is a palindrome\n",
      "Enter your text or type 'quit': lol\n",
      "this is a palindrome\n",
      "Enter your text or type 'quit': quit\n"
     ]
    }
   ],
   "source": [
    "## Step 5: todo write code for full problem, using the isPalindrome function to help you solve the problem\n",
    "\n",
    "while True:\n",
    "    text = input(\"Enter your text or type 'quit': \")\n",
    "    aaa = isPalindrome(text)\n",
    "    if text == 'quit':\n",
    "        break\n",
    "    elif aaa is True:\n",
    "        print(\"this is a palindrome\")\n",
    "    else:\n",
    "        print(\"This is not a palindrome\")"
   ]
  },
  {
   "cell_type": "markdown",
   "metadata": {},
   "source": [
    "## Step 6: Questions\n",
    "\n",
    "1. Did you use a loop inside your `isPalindrome` function? Can you think of a way to re-factor it without a loop?\n",
    "1. Yes I did. I use loop inside function isPalindrome. I think I cannot refactor without loop because need to make cases for checking palindrome by True or False. For check palindrome, I think loop is essential for this function.\n",
    "2. How many tests are required in step 3?\n",
    "1. Step 3 needs one test for checking same between reversed word and original word. (if is true - palindrome), and other for print (not palindrome)\n",
    "3. What is the exit condition of the loop in the full program?\n",
    "1. I make break statement \"quit\" for exit condition.\n"
   ]
  },
  {
   "cell_type": "markdown",
   "metadata": {},
   "source": [
    "## Reminder of Evaluation Criteria\n",
    "\n",
    "1. What the problem attempted (analysis, code, and answered questions) ?\n",
    "2. What the problem analysis thought out? (does the program match the plan?)\n",
    "3. Does the code execute without syntax error?\n",
    "4. Does the code solve the intended problem?\n",
    "5. Is the code well written? (easy to understand, modular, and self-documenting, handles errors)\n"
   ]
  },
  {
   "cell_type": "code",
   "execution_count": null,
   "metadata": {
    "collapsed": true
   },
   "outputs": [],
   "source": []
  }
 ],
 "metadata": {
  "anaconda-cloud": {},
  "kernelspec": {
   "display_name": "Python 3",
   "language": "python",
   "name": "python3"
  },
  "language_info": {
   "codemirror_mode": {
    "name": "ipython",
    "version": 3
   },
   "file_extension": ".py",
   "mimetype": "text/x-python",
   "name": "python",
   "nbconvert_exporter": "python",
   "pygments_lexer": "ipython3",
   "version": "3.6.1"
  }
 },
 "nbformat": 4,
 "nbformat_minor": 1
}
