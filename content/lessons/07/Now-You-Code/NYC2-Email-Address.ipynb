{
 "cells": [
  {
   "cell_type": "markdown",
   "metadata": {},
   "source": [
    "# Now You Code 2: Is That An Email Address?\n",
    "\n",
    "Let's use Python's built-in string functions to write our own function to detect if a string is an email address. \n",
    "\n",
    "The function `isEmail(text)` should return `True` when `text` is an email address, `False` otherwise.  \n",
    "\n",
    "For simplicity's sake we will define an email address to be any string with just ONE `@` symbol in it, where the `@` is not at the beginning or end of the string. So `a@b` is considered an email (even though it really isn't).\n",
    "\n",
    "The program should detect emails until you enter quit. \n",
    "\n",
    "Sample run:\n",
    "```\n",
    "Email address detector. Type quit to exit. \n",
    "Email: mafudge@syr.edu\n",
    "mafudge@syr.edu ==> email\n",
    "Email: mafudge@\n",
    "mafudge@ ==> NOT EMAIL\n",
    "Email: mafudge\n",
    "mafudge ==> NOT EMAIL\n",
    "Email: @syr.edu\n",
    "@syr.edu ==> NOT EMAIL\n",
    "Email: @\n",
    "@ ==> NOT EMAIL\n",
    "Email: mafudge@@syr.edu\n",
    "mafudge@@syr.edu ==> NOT EMAIL\n",
    "Email: mafudge@syr@edu\n",
    "mafudge@syr@edu ==> NOT EMAIL\n",
    "```\n",
    "\n",
    "Once again we will use the problem simplification technique to writing this program.\n",
    "\n",
    "First we will write the `isEmail(text)` function, then we will write the main program.\n"
   ]
  },
  {
   "cell_type": "markdown",
   "metadata": {},
   "source": [
    "## Step 1: Problem Analysis for isEmail function only\n",
    "\n",
    "Inputs: \n",
    "1. Enter any email address\n",
    "\n",
    "Outputs: \n",
    "1. Show input this is email or show this is not\n",
    "1. function - check install\n",
    "1. lookout for 'quit'\n",
    "\n",
    "Algorithm (Steps in Program):\n",
    "1. Rules:\n",
    "    1. Can't end in @ +\n",
    "    and\n",
    "    1. cant start with @\n",
    "    1. must have @\n",
    "    1. only have @\n",
    "   \n",
    "1. Define function\n",
    "1. Print Email address Detector\n",
    "1. Make a break for quit for address Detecctor\n",
    "1. Call function\n",
    "1. If it is an email print 'email'\n",
    "1. else print \"is not an email\"\n"
   ]
  },
  {
   "cell_type": "code",
   "execution_count": null,
   "metadata": {},
   "outputs": [],
   "source": [
    "## Step 2: Todo write the function definition for isEmail functiuon\n",
    "\n",
    "def isEmail(email):\n",
    "    email_sw = email.startswith(\"@\")\n",
    "    email_ew = email.endswith(\"@\")\n",
    "    check_email = \"@\" in email\n",
    "    if check_email is False:\n",
    "        email_value = \"not an email\"\n",
    "    elif email_sw is True:\n",
    "        email_value = \"not an email\"\n",
    "    elif email_ew is True:\n",
    "        email_value = \"not an email\"\n",
    "    elif email.count(\"@\") > 1:\n",
    "        email_value = \"not an email\"\n",
    "    else:\n",
    "        email_value = \"email\"\n",
    "    return email_value"
   ]
  },
  {
   "cell_type": "code",
   "execution_count": null,
   "metadata": {},
   "outputs": [],
   "source": [
    "## Step 3: Write some tests, to ensure the function works, for example\n",
    "## Make sure to test all cases!\n",
    "print(\"Input:\", \"mike@syr.edu\", \"Should be True, Actual Value:\", isEmail(\"mike@syr.edu\") )\n",
    "print(\"Input:\", \"mike@\", \"Should be False, Actual Value:\", isEmail(\"mike@\") )\n",
    "\n"
   ]
  },
  {
   "cell_type": "markdown",
   "metadata": {},
   "source": [
    "## Step 4: Problem Analysis for full Program\n",
    "\n",
    "Inputs:\n",
    "1. Write the email\n",
    "\n",
    "Outputs:\n",
    "1. If email is valid - email\n",
    "2. If email is not valid -not an email\n",
    "\n",
    "Algorithm (Steps in Program):\n",
    "1. Make email function to isEmail\n",
    "2. Make cases to detect email\n",
    "   1. email cannot start with \"@\"\n",
    "   2. email cannot end with \"@\"\n",
    "   3. email should have \"@\"\n",
    "   4. email should have only one \"@\" not more than one\n",
    "   5. email cannot have \" \" (space)\n",
    "   6. email cannot have \",\"\n",
    "3. else is email\n",
    "4. Function completed and Make a program\n",
    "5. Program shows Email address detector. Type 'quit' to exit.\n",
    "6. Make while True loop to run program\n",
    "7. Make a break statement for 'quit'\n",
    "8. else call function and print return value\n",
    "   \n"
   ]
  },
  {
   "cell_type": "code",
   "execution_count": 3,
   "metadata": {},
   "outputs": [
    {
     "name": "stdout",
     "output_type": "stream",
     "text": [
      "Email address detector. Type 'quit' to exit.\n",
      "Enter your email: quit\n"
     ]
    }
   ],
   "source": [
    "## Step 5: todo write code for full problem, using the isEmail function to help you solve the problem\n",
    "def isEmail(email):\n",
    "    email_sw = email.startswith(\"@\")\n",
    "    email_ew = email.endswith(\"@\")\n",
    "    check_email = \"@\" in email\n",
    "    check_email2 = \" \" in email\n",
    "    check_email3 = \",\" in email\n",
    "    if check_email is False:\n",
    "        email_value = \"not an email\"\n",
    "    elif check_email2 is True:\n",
    "        email_value = \"not an email\"\n",
    "    elif check_email3 is True:\n",
    "        email_value = \"not an email\"\n",
    "    elif email_sw is True:\n",
    "        email_value = \"not an email\"\n",
    "    elif email_ew is True:\n",
    "        email_value = \"not an email\"\n",
    "    elif email.count(\"@\") > 1:\n",
    "        email_value = \"not an email\"\n",
    "    else:\n",
    "        email_value = \"email\"\n",
    "    return email_value\n",
    "\n",
    "print(\"Email address detector. Type 'quit' to exit.\")\n",
    "\n",
    "while True:\n",
    "    email = input(\"Enter your email: \")\n",
    "    if email == \"quit\":\n",
    "        break\n",
    "    else:\n",
    "        print(isEmail(email))\n"
   ]
  },
  {
   "cell_type": "markdown",
   "metadata": {},
   "source": [
    "## Step 6: Questions\n",
    "\n",
    "1. How many test cases should you have in step 3 to ensure you've tested all the cases?'\n",
    "1. I apply 5 test cases. One for check \"@\" first. Second for check startswith \"@\", third for check endswith \"@\", fourth for check number of \"@\" (for example if there are more than one \"@\" is not an email), and last for valid email. \n",
    "2. What should kind of logic should we add to make our `isEmail` function even better, so that is detects emails more accurately?\n",
    "1. I add more logic for prevent to write \",\" and \" \" in email. So I add check_email2 and check_email3 to function to tetects emails more accurately.\n"
   ]
  },
  {
   "cell_type": "markdown",
   "metadata": {},
   "source": [
    "## Reminder of Evaluation Criteria\n",
    "\n",
    "1. What the problem attempted (analysis, code, and answered questions) ?\n",
    "2. What the problem analysis thought out? (does the program match the plan?)\n",
    "3. Does the code execute without syntax error?\n",
    "4. Does the code solve the intended problem?\n",
    "5. Is the code well written? (easy to understand, modular, and self-documenting, handles errors)\n"
   ]
  },
  {
   "cell_type": "code",
   "execution_count": null,
   "metadata": {
    "collapsed": true
   },
   "outputs": [],
   "source": []
  }
 ],
 "metadata": {
  "anaconda-cloud": {},
  "kernelspec": {
   "display_name": "Python 3",
   "language": "python",
   "name": "python3"
  },
  "language_info": {
   "codemirror_mode": {
    "name": "ipython",
    "version": 3
   },
   "file_extension": ".py",
   "mimetype": "text/x-python",
   "name": "python",
   "nbconvert_exporter": "python",
   "pygments_lexer": "ipython3",
   "version": "3.6.1"
  }
 },
 "nbformat": 4,
 "nbformat_minor": 1
}
