{
 "cells": [
  {
   "cell_type": "markdown",
   "metadata": {},
   "source": [
    "# In-Class Coding Lab: Strings\n",
    "\n",
    "The goals of this lab are to help you to understand:\n",
    "\n",
    "- String slicing for substrings\n",
    "- How to use Python's built-in String functions in the standard library.\n",
    "- Tokenizing and Parsing Data\n",
    "- How to create user-defined functions to parse and tokenize strings\n",
    "\n",
    "\n",
    "# Strings\n",
    "\n",
    "## Strings are immutable sequences\n",
    "\n",
    "Python strings are immutable sequences.This means we cannot change them \"in part\" and there is impicit ordering. \n",
    "\n",
    "The characters in a string are zero-based. Meaning the index of the first character is 0.\n",
    "\n",
    "We can leverage this in a variety of ways.\n",
    "\n",
    "For example:"
   ]
  },
  {
   "cell_type": "code",
   "execution_count": null,
   "metadata": {
    "collapsed": true
   },
   "outputs": [],
   "source": [
    "x = input(\"Enter something: \")\n",
    "print (\"You typed:\", x)\n",
    "print (\"number of characters:\", len(x) )\n",
    "print (\"First character is:\", x[0])\n",
    "print (\"Last character is:\", x[-1])\n",
    "\n",
    "## They're sequences, so you can loop definately:\n",
    "print(\"Printing one character at a time: \")\n",
    "for ch in x:\n",
    "    print(ch) # print a character at a time!"
   ]
  },
  {
   "cell_type": "markdown",
   "metadata": {},
   "source": [
    "## Slices as substrings\n",
    "\n",
    "Python lists and sequences use **slice notation** which is a clever way to get substring from a given string.\n",
    "\n",
    "Slice notation requires two values: A start index and the end index. The substring returned starts at the start index, and *ends at the position before the end index*. It ends at the position *before* so that when you slice a string into parts you know where you've \"left off\". \n",
    "\n",
    "For example:"
   ]
  },
  {
   "cell_type": "code",
   "execution_count": null,
   "metadata": {
    "collapsed": true
   },
   "outputs": [],
   "source": [
    "state = \"Mississippi\"\n",
    "print (state[0:4])          # Miss\n",
    "print (state[4:len(state)]) # issippi"
   ]
  },
  {
   "cell_type": "markdown",
   "metadata": {},
   "source": [
    "In this next example, play around with the variable `split` adjusting it to how you want the string to be split up. Re run the cell several times with different values to get a feel for what happens."
   ]
  },
  {
   "cell_type": "code",
   "execution_count": null,
   "metadata": {
    "collapsed": true
   },
   "outputs": [],
   "source": [
    "state = \"Mississippi\"\n",
    "split = 5   # TODO: play around with this number\n",
    "left = state[0:split]\n",
    "right = state[split:len(state)]\n",
    "print(left, right)"
   ]
  },
  {
   "cell_type": "markdown",
   "metadata": {},
   "source": [
    "### Slicing from the beginning or to the end\n",
    "\n",
    "If you omit the begin or end slice, Python will slice from the beginnning of the string or all the way to the end. So if you say `x[:5]` its the same as `x[0:5]`\n",
    "\n",
    "For example:"
   ]
  },
  {
   "cell_type": "code",
   "execution_count": null,
   "metadata": {
    "collapsed": true
   },
   "outputs": [],
   "source": [
    "state = \"Ohio\"\n",
    "print(state[0:2], state[:2]) # same!\n",
    "print(state[2:len(state)], state[2:]) # same\n"
   ]
  },
  {
   "cell_type": "markdown",
   "metadata": {},
   "source": [
    "### Now Try It!\n",
    "\n",
    "Split the string  `\"New Hampshire\"` into two sub-strings one containing `\"New\"` the other containing `\"Hampshire\"` (without the space)."
   ]
  },
  {
   "cell_type": "code",
   "execution_count": null,
   "metadata": {
    "collapsed": true
   },
   "outputs": [],
   "source": [
    "## TODO: Write code here\n",
    "word = \"New Hampshire\"\n",
    "split = 3\n",
    "left = word[0:split]\n",
    "right = word[split+1:len(word)]\n",
    "print(left)\n",
    "print(right)\n",
    "print(left, right)"
   ]
  },
  {
   "cell_type": "markdown",
   "metadata": {},
   "source": [
    "## Python's built in String Functions\n",
    "\n",
    "Python includes several handy built-in string functions (also known as *methods* in object-oriented parlance). To get a list of available functions, use the `dir()` function on any string variable, or on the type `str` itself.\n"
   ]
  },
  {
   "cell_type": "code",
   "execution_count": null,
   "metadata": {
    "collapsed": true
   },
   "outputs": [],
   "source": [
    "print ( dir(str))"
   ]
  },
  {
   "cell_type": "markdown",
   "metadata": {},
   "source": [
    "Let's suppose you want to learn how to use the `count` function. There are 2 ways you can do this.\n",
    "\n",
    "1. search the web for `python 3 str count` or\n",
    "1. bring up internal help `help(str.count)` \n",
    "\n",
    "Both have their advantages and disadvanges. I would start with the second one, and only fall back to a web search when you can't figure it out from the Python documenation. \n",
    "\n",
    "Here's the documentation for `count`"
   ]
  },
  {
   "cell_type": "code",
   "execution_count": null,
   "metadata": {
    "collapsed": true
   },
   "outputs": [],
   "source": [
    "help(str.count)"
   ]
  },
  {
   "cell_type": "markdown",
   "metadata": {},
   "source": [
    "You'll notice in the help output it says S.count() this indicates this function is a method function. this means you invoke it like this `variable.count()`.\n",
    "\n",
    "### Now Try It\n",
    "\n",
    "Try to use the count() function method to count the number of `'i'`'s in the string `'Mississippi`:"
   ]
  },
  {
   "cell_type": "code",
   "execution_count": null,
   "metadata": {
    "collapsed": true
   },
   "outputs": [],
   "source": [
    "state = 'Mississippi'\n",
    "#TODO: use state.count\n",
    "state.count('i')"
   ]
  },
  {
   "cell_type": "markdown",
   "metadata": {},
   "source": [
    "### TANGENT: The Subtle difference between function and method.\n",
    "\n",
    "You'll notice sometimes we call our function alone, other times it's attached to a variable, as was the case in the example above. when we say `state.count('i')` the period (`.`) between the variable and function indicates this function is a *method function*. The key difference between a the two is a method is attached to a variable. To call a method function you must say `variable.function()` whereas when you call a function its just `function()`. The variable associated with the method call is usually part of the function's context.\n",
    "\n",
    "Here's an example:"
   ]
  },
  {
   "cell_type": "code",
   "execution_count": null,
   "metadata": {
    "collapsed": true
   },
   "outputs": [],
   "source": [
    "name = \"Larry\"\n",
    "print( len(name) )      # a function call len(name) stands on its own. Gets length of 'Larry'\n",
    "print( name.__len__() ) # a method call name.__len__()  does the name thing for its variable 'Larry'"
   ]
  },
  {
   "cell_type": "markdown",
   "metadata": {},
   "source": [
    "### Now Try It\n",
    "\n",
    "Try to figure out which built in string function to use to accomplish this task.\n",
    "\n",
    "Write some code to find the text `'is'` in some text. The program shoud output the first position of `'is'` in the text. \n",
    "\n",
    "Examples:\n",
    "\n",
    "```\n",
    "When: text = 'Mississippi' then position = 1\n",
    "When: text = \"This is great\" then position = 2\n",
    "When: text = \"Burger\" then position = -1\n",
    "```"
   ]
  },
  {
   "cell_type": "code",
   "execution_count": null,
   "metadata": {
    "collapsed": true
   },
   "outputs": [],
   "source": [
    "# TODO: Write your code here\n",
    "text = input(\"Enter some text: \")\n",
    "text.find('is', 0)"
   ]
  },
  {
   "cell_type": "markdown",
   "metadata": {},
   "source": [
    "### Now Try It\n",
    "\n",
    "**Is that a URL?**\n",
    "\n",
    "Try to write a rudimentary URL checker. The program should input a text string and then use the `startswith` function to check if the string begins with `\"http://\"` or `\"https://\"` If it does we can assume it is a URL.  "
   ]
  },
  {
   "cell_type": "code",
   "execution_count": 2,
   "metadata": {},
   "outputs": [
    {
     "name": "stdout",
     "output_type": "stream",
     "text": [
      "This program is URL checker\n",
      "Enter the URL: idejij\n",
      "It is not URL\n",
      "Turn off URL checker\n"
     ]
    }
   ],
   "source": [
    "## TODO: write code here:\n",
    "print(\"This program is URL checker\")\n",
    "user_input = input(\"Enter the URL: \")\n",
    "while True:\n",
    "    if user_input.startswith(\"http://\"):\n",
    "        print(\"It is a URL\")\n",
    "        break\n",
    "    elif user_input.startswith(\"https://\"):\n",
    "        print(\"It is a URL\")\n",
    "        break\n",
    "    else:\n",
    "        print(\"It is not URL\")\n",
    "        break\n",
    "print(\"Turn off URL checker\")"
   ]
  },
  {
   "cell_type": "code",
   "execution_count": null,
   "metadata": {
    "collapsed": true
   },
   "outputs": [],
   "source": []
  }
 ],
 "metadata": {
  "anaconda-cloud": {},
  "kernelspec": {
   "display_name": "Python 3",
   "language": "python",
   "name": "python3"
  },
  "language_info": {
   "codemirror_mode": {
    "name": "ipython",
    "version": 3
   },
   "file_extension": ".py",
   "mimetype": "text/x-python",
   "name": "python",
   "nbconvert_exporter": "python",
   "pygments_lexer": "ipython3",
   "version": "3.6.1"
  }
 },
 "nbformat": 4,
 "nbformat_minor": 1
}
